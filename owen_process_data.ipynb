{
 "cells": [
  {
   "cell_type": "markdown",
   "id": "382f657c",
   "metadata": {},
   "source": [
    "# Imports"
   ]
  },
  {
   "cell_type": "code",
   "execution_count": 1,
   "id": "dc6e505a",
   "metadata": {},
   "outputs": [],
   "source": [
    "import pandas as pd\n",
    "\n",
    "pd.set_option('display.max_columns', None)"
   ]
  },
  {
   "cell_type": "markdown",
   "id": "c3626dc9",
   "metadata": {},
   "source": [
    "# Configuration"
   ]
  },
  {
   "cell_type": "code",
   "execution_count": 2,
   "id": "47f4ec4c",
   "metadata": {},
   "outputs": [],
   "source": [
    "seasons = ['2019-20', '2018-19', '2017-18', '2016-17', '2015-16']"
   ]
  },
  {
   "cell_type": "markdown",
   "id": "170d4b4f",
   "metadata": {},
   "source": [
    "# Functions"
   ]
  },
  {
   "cell_type": "code",
   "execution_count": 3,
   "id": "ffc95640",
   "metadata": {},
   "outputs": [],
   "source": [
    "# Returns a dataframe with all relevant data for a game\n",
    "def process_data(season):\n",
    "    # =============================================================================================\n",
    "    # Player boxscores\n",
    "    # =============================================================================================\n",
    "    traditional_player_df = pd.read_csv(f\"data/{season}/traditional_player_{season}.csv\")\n",
    "    advanced_player_df = pd.read_csv(f\"data/{season}/advanced_player_{season}.csv\")\n",
    "\n",
    "    # Remove duplicate columns from advanced player boxscore\n",
    "    advanced_player_df = advanced_player_df.drop([\n",
    "        \"teamId\",\n",
    "        \"teamCity\",\n",
    "        \"teamName\",\n",
    "        \"teamTricode\",\n",
    "        \"teamSlug\",\n",
    "        \"firstName\",\n",
    "        \"familyName\",\n",
    "        \"nameI\",\n",
    "        \"playerSlug\",\n",
    "        \"position\",\n",
    "        \"comment\",\n",
    "        \"jerseyNum\",\n",
    "        \"minutes\",\n",
    "        \"gameDate\"\n",
    "    ], axis=1)\n",
    "\n",
    "    # Merge traditional and advanced player boxscores\n",
    "    player_df = traditional_player_df.merge(advanced_player_df, on=['personId', 'gameId'], how='left')\n",
    "\n",
    "    # =============================================================================================\n",
    "    # Team boxscores\n",
    "    # =============================================================================================\n",
    "    traditional_team_df = pd.read_csv(f\"data/{season}/traditional_team_{season}.csv\")\n",
    "    advanced_team_df = pd.read_csv(f\"data/{season}/advanced_team_{season}.csv\")\n",
    "\n",
    "    # Remove duplicate columns from advanced team boxscore\n",
    "    advanced_team_df = advanced_team_df.drop([\n",
    "        \"teamCity\", \n",
    "        \"teamName\", \n",
    "        \"teamTricode\", \n",
    "        \"teamSlug\", \n",
    "        \"minutes\",\n",
    "        \"gameDate\"\n",
    "    ], axis=1)\n",
    "\n",
    "    # Merge traditional and advanced team boxscores\n",
    "    team_df = traditional_team_df.merge(advanced_team_df, on=['teamId', 'gameId'], how='left')\n",
    "\n",
    "    # =============================================================================================\n",
    "    # Add things to team boxscore\n",
    "    # =============================================================================================\n",
    "    team_df['home'] = team_df.groupby('gameId').cumcount().apply(lambda x: x == 0)\n",
    "\n",
    "    # Add won column\n",
    "    team_df['max_points'] = team_df.groupby('gameId')['points'].transform('max')\n",
    "    team_df['won'] = team_df['points'] == team_df['max_points']\n",
    "    team_df['won'] = team_df['won'].astype(int)\n",
    "    team_df.drop(columns='max_points', inplace=True)\n",
    "\n",
    "    # Rename minutes to gameMin\n",
    "    team_df = team_df.rename(columns={'minutes': 'gameMin'})\n",
    "\n",
    "    # Set opponent teamId\n",
    "    team_df['opp_teamId'] = team_df.groupby('gameId')['teamId'].transform(lambda ids: ids.iloc[::-1].values)\n",
    "\n",
    "    # =============================================================================================\n",
    "    # Combine team team stats to player stats\n",
    "    # =============================================================================================\n",
    "    team_team_df = team_df.copy()\n",
    "    team_team_df = team_team_df.drop([\n",
    "        \"teamCity\", \n",
    "        \"teamName\", \n",
    "        \"teamTricode\", \n",
    "        \"teamSlug\",\n",
    "        \"gameDate\"\n",
    "    ], axis=1)\n",
    "    team_team_df = team_team_df.add_prefix('team_')\n",
    "    team_team_df = team_team_df.rename(columns={'team_gameMin': 'gameMin', 'team_won': 'won', 'team_home': 'home'})\n",
    "\n",
    "    player_df = player_df.merge(team_team_df, left_on=['teamId', 'gameId'], right_on=['team_teamId', 'team_gameId'], how='left')\n",
    "    player_df = player_df.drop(['team_teamId', 'team_gameId', 'team_opp_teamId'], axis=1)\n",
    "\n",
    "    # =============================================================================================\n",
    "    # Combine opponent team stats to player stats\n",
    "    # =============================================================================================\n",
    "    opp_team_df = team_df.copy()\n",
    "    opp_team_df = opp_team_df.drop(['gameMin', 'home', 'won', 'gameDate'], axis=1)\n",
    "    opp_team_df = opp_team_df.add_prefix('opp_')\n",
    "\n",
    "    player_df = player_df.merge(opp_team_df, left_on=['teamId', 'gameId'], right_on=['opp_opp_teamId', 'opp_gameId'], how='left')\n",
    "    player_df = player_df.drop(['opp_opp_teamId', 'opp_gameId'], axis=1)\n",
    "\n",
    "    # =============================================================================================\n",
    "    # Save dataframe to CSV\n",
    "    # =============================================================================================\n",
    "    player_df.to_csv(f\"data/{season}/processed_{season}.csv\", index=False)"
   ]
  },
  {
   "cell_type": "markdown",
   "id": "ba1305c6",
   "metadata": {},
   "source": [
    "# Main"
   ]
  },
  {
   "cell_type": "code",
   "execution_count": 4,
   "id": "9bc6c39e",
   "metadata": {},
   "outputs": [],
   "source": [
    "for season in seasons:\n",
    "    process_data(season)"
   ]
  }
 ],
 "metadata": {
  "kernelspec": {
   "display_name": "cs190a",
   "language": "python",
   "name": "python3"
  },
  "language_info": {
   "codemirror_mode": {
    "name": "ipython",
    "version": 3
   },
   "file_extension": ".py",
   "mimetype": "text/x-python",
   "name": "python",
   "nbconvert_exporter": "python",
   "pygments_lexer": "ipython3",
   "version": "3.10.16"
  }
 },
 "nbformat": 4,
 "nbformat_minor": 5
}
