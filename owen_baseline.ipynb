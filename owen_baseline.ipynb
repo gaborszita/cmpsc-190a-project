{
 "cells": [
  {
   "cell_type": "markdown",
   "id": "6f76cc48",
   "metadata": {},
   "source": [
    "# Imports"
   ]
  },
  {
   "cell_type": "code",
   "execution_count": 1,
   "id": "81e980ab",
   "metadata": {},
   "outputs": [],
   "source": [
    "import pandas as pd\n",
    "import numpy as np\n",
    "from sklearn.model_selection import train_test_split, RandomizedSearchCV, TimeSeriesSplit\n",
    "from xgboost import XGBRegressor, plot_importance\n",
    "from sklearn.metrics import mean_squared_error, mean_absolute_error\n",
    "import matplotlib.pyplot as plt\n",
    "from scipy.stats import uniform, randint\n",
    "\n",
    "pd.set_option('display.max_columns', None)"
   ]
  },
  {
   "cell_type": "markdown",
   "id": "d2acac08",
   "metadata": {},
   "source": [
    "# Configuration"
   ]
  },
  {
   "cell_type": "code",
   "execution_count": 2,
   "id": "c31fcc8e",
   "metadata": {},
   "outputs": [],
   "source": [
    "seasons = ['2024-25', '2023-24', '2022-23', '2021-22', '2020-21', '2019-20', '2018-19', '2017-18', '2016-17', '2015-16']"
   ]
  },
  {
   "cell_type": "code",
   "execution_count": 3,
   "id": "3879a305",
   "metadata": {},
   "outputs": [],
   "source": [
    "target = 'points'"
   ]
  },
  {
   "cell_type": "markdown",
   "id": "48f9d0a8",
   "metadata": {},
   "source": [
    "# Prepare Data"
   ]
  },
  {
   "cell_type": "code",
   "execution_count": 4,
   "id": "37680847",
   "metadata": {},
   "outputs": [],
   "source": [
    "# Load data\n",
    "data_frames = []\n",
    "\n",
    "for season in seasons:\n",
    "    df = pd.read_csv(f\"data/{season}/processed_{season}.csv\")\n",
    "    data_frames.append(df)\n",
    "\n",
    "data = pd.concat(data_frames, ignore_index=True)"
   ]
  },
  {
   "cell_type": "code",
   "execution_count": 5,
   "id": "8ec8cd88",
   "metadata": {},
   "outputs": [],
   "source": [
    "# Sort data based on player and game date\n",
    "data['gameDate'] = pd.to_datetime(data['gameDate'])\n",
    "\n",
    "data = data.sort_values('gameDate').reset_index(drop=True)"
   ]
  },
  {
   "cell_type": "code",
   "execution_count": 6,
   "id": "c7f4e307",
   "metadata": {},
   "outputs": [],
   "source": [
    "# Add seconds column\n",
    "def parse_minutes_to_seconds(time_str):\n",
    "    if pd.isna(time_str):\n",
    "        return None\n",
    "    try:\n",
    "        # Split by colon\n",
    "        minutes_part, seconds_part = str(time_str).split(':')\n",
    "        # Convert minute to float, in case it's like \"36.000000\"\n",
    "        minutes = float(minutes_part)\n",
    "        seconds = int(seconds_part)\n",
    "        total_seconds = int(minutes * 60 + seconds)\n",
    "        return total_seconds\n",
    "    except:\n",
    "        return None\n",
    "    \n",
    "data['seconds'] = data['minutes'].apply(parse_minutes_to_seconds)"
   ]
  },
  {
   "cell_type": "markdown",
   "id": "23c84b4f",
   "metadata": {},
   "source": [
    "# Add Rolling"
   ]
  },
  {
   "cell_type": "code",
   "execution_count": 7,
   "id": "f3ee3ea8",
   "metadata": {},
   "outputs": [],
   "source": [
    "def player_rolling(stat, num_games):\n",
    "    data_copy[f\"{stat}_rolling\"] = (\n",
    "        data_copy.groupby('playerSlug')[stat]\n",
    "            .transform(lambda x: x.shift().rolling(window=num_games).mean())\n",
    "    )"
   ]
  },
  {
   "cell_type": "markdown",
   "id": "a2e8d5e1",
   "metadata": {},
   "source": [
    "# Baseline"
   ]
  },
  {
   "cell_type": "code",
   "execution_count": 8,
   "id": "ac88651d",
   "metadata": {},
   "outputs": [
    {
     "name": "stdout",
     "output_type": "stream",
     "text": [
      "Window 1: RMSE = 7.61, MAE = 5.22\n",
      "Window 2: RMSE = 6.74, MAE = 4.71\n",
      "Window 3: RMSE = 6.46, MAE = 4.56\n",
      "Window 4: RMSE = 6.33, MAE = 4.49\n",
      "Window 5: RMSE = 6.25, MAE = 4.45\n",
      "Window 6: RMSE = 6.20, MAE = 4.43\n",
      "Window 7: RMSE = 6.17, MAE = 4.42\n",
      "Window 8: RMSE = 6.16, MAE = 4.43\n",
      "Window 9: RMSE = 6.15, MAE = 4.43\n",
      "Window 10: RMSE = 6.14, MAE = 4.44\n",
      "Window 11: RMSE = 6.14, MAE = 4.44\n",
      "Window 12: RMSE = 6.14, MAE = 4.45\n",
      "Window 13: RMSE = 6.14, MAE = 4.46\n",
      "Window 14: RMSE = 6.14, MAE = 4.46\n",
      "Window 15: RMSE = 6.14, MAE = 4.48\n",
      "Window 16: RMSE = 6.15, MAE = 4.49\n",
      "Window 17: RMSE = 6.16, MAE = 4.50\n",
      "Window 18: RMSE = 6.17, MAE = 4.51\n",
      "Window 19: RMSE = 6.18, MAE = 4.52\n",
      "Window 20: RMSE = 6.19, MAE = 4.53\n",
      "Window 21: RMSE = 6.20, MAE = 4.54\n",
      "Window 22: RMSE = 6.20, MAE = 4.55\n",
      "Window 23: RMSE = 6.21, MAE = 4.56\n",
      "Window 24: RMSE = 6.22, MAE = 4.57\n",
      "Window 25: RMSE = 6.22, MAE = 4.58\n",
      "Window 26: RMSE = 6.23, MAE = 4.59\n",
      "Window 27: RMSE = 6.24, MAE = 4.60\n",
      "Window 28: RMSE = 6.25, MAE = 4.61\n",
      "Window 29: RMSE = 6.26, MAE = 4.62\n",
      "Window 30: RMSE = 6.26, MAE = 4.63\n",
      "Window 31: RMSE = 6.27, MAE = 4.63\n",
      "Window 32: RMSE = 6.28, MAE = 4.64\n",
      "Window 33: RMSE = 6.29, MAE = 4.65\n",
      "Window 34: RMSE = 6.29, MAE = 4.66\n",
      "Window 35: RMSE = 6.30, MAE = 4.67\n",
      "Window 36: RMSE = 6.31, MAE = 4.68\n",
      "Window 37: RMSE = 6.32, MAE = 4.69\n",
      "Window 38: RMSE = 6.32, MAE = 4.70\n",
      "Window 39: RMSE = 6.33, MAE = 4.70\n",
      "Window 40: RMSE = 6.34, MAE = 4.71\n",
      "Window 41: RMSE = 6.34, MAE = 4.72\n",
      "Window 42: RMSE = 6.35, MAE = 4.73\n",
      "Window 43: RMSE = 6.36, MAE = 4.73\n",
      "Window 44: RMSE = 6.37, MAE = 4.74\n",
      "Window 45: RMSE = 6.38, MAE = 4.75\n",
      "Window 46: RMSE = 6.38, MAE = 4.76\n",
      "Window 47: RMSE = 6.38, MAE = 4.76\n",
      "Window 48: RMSE = 6.39, MAE = 4.77\n",
      "Window 49: RMSE = 6.40, MAE = 4.78\n",
      "Window 50: RMSE = 6.40, MAE = 4.79\n",
      "Window 51: RMSE = 6.41, MAE = 4.79\n",
      "Window 52: RMSE = 6.42, MAE = 4.80\n",
      "Window 53: RMSE = 6.42, MAE = 4.81\n",
      "Window 54: RMSE = 6.43, MAE = 4.81\n",
      "Window 55: RMSE = 6.43, MAE = 4.82\n",
      "Window 56: RMSE = 6.44, MAE = 4.83\n",
      "Window 57: RMSE = 6.45, MAE = 4.83\n",
      "Window 58: RMSE = 6.46, MAE = 4.84\n",
      "Window 59: RMSE = 6.46, MAE = 4.85\n",
      "Window 60: RMSE = 6.47, MAE = 4.85\n",
      "Window 61: RMSE = 6.47, MAE = 4.86\n",
      "Window 62: RMSE = 6.48, MAE = 4.87\n",
      "Window 63: RMSE = 6.49, MAE = 4.88\n",
      "Window 64: RMSE = 6.49, MAE = 4.88\n",
      "Window 65: RMSE = 6.50, MAE = 4.89\n",
      "Window 66: RMSE = 6.50, MAE = 4.89\n",
      "Window 67: RMSE = 6.51, MAE = 4.90\n",
      "Window 68: RMSE = 6.51, MAE = 4.90\n",
      "Window 69: RMSE = 6.52, MAE = 4.91\n",
      "Window 70: RMSE = 6.52, MAE = 4.91\n",
      "Window 71: RMSE = 6.52, MAE = 4.92\n",
      "Window 72: RMSE = 6.52, MAE = 4.92\n",
      "Window 73: RMSE = 6.53, MAE = 4.93\n",
      "Window 74: RMSE = 6.54, MAE = 4.93\n",
      "Window 75: RMSE = 6.54, MAE = 4.94\n",
      "Window 76: RMSE = 6.54, MAE = 4.94\n",
      "Window 77: RMSE = 6.55, MAE = 4.95\n",
      "Window 78: RMSE = 6.55, MAE = 4.95\n",
      "Window 79: RMSE = 6.56, MAE = 4.96\n",
      "Window 80: RMSE = 6.56, MAE = 4.96\n",
      "Window 81: RMSE = 6.56, MAE = 4.96\n",
      "\n",
      "Best Result:\n",
      "Best Window Size: 14\n",
      "Best RMSE: 6.14\n",
      "Best MAE: 4.46\n"
     ]
    }
   ],
   "source": [
    "best_rmse = float('inf')\n",
    "best_mae = float('inf')\n",
    "best_window = None\n",
    "\n",
    "for i in range(1, 82):\n",
    "    data_copy = data.copy()\n",
    "\n",
    "    player_rolling(target, i)\n",
    "    data_copy = data_copy.dropna(subset=[f\"{target}_rolling\", target])\n",
    "\n",
    "    X = data_copy[[f\"{target}_rolling\"]]\n",
    "    y = data_copy[target]\n",
    "    X_train, X_test, y_train, y_test = train_test_split(X, y, shuffle=False)\n",
    "\n",
    "    y_baseline_pred = X_test[f\"{target}_rolling\"]\n",
    "    baseline_mse = mean_squared_error(y_test, y_baseline_pred)\n",
    "    baseline_rmse = np.sqrt(baseline_mse)\n",
    "    baseline_mae = mean_absolute_error(y_test, y_baseline_pred)\n",
    "\n",
    "    print(f\"Window {i}: RMSE = {baseline_rmse:.2f}, MAE = {baseline_mae:.2f}\")\n",
    "\n",
    "    if baseline_rmse < best_rmse:\n",
    "        best_rmse = baseline_rmse\n",
    "        best_mae = baseline_mae\n",
    "        best_window = i\n",
    "\n",
    "print(\"\\nBest Result:\")\n",
    "print(f\"Best Window Size: {best_window}\")\n",
    "print(f\"Best RMSE: {best_rmse:.2f}\")\n",
    "print(f\"Best MAE: {best_mae:.2f}\")\n"
   ]
  },
  {
   "cell_type": "code",
   "execution_count": null,
   "id": "d6cc64f0",
   "metadata": {},
   "outputs": [],
   "source": []
  }
 ],
 "metadata": {
  "kernelspec": {
   "display_name": "cs190a",
   "language": "python",
   "name": "python3"
  },
  "language_info": {
   "codemirror_mode": {
    "name": "ipython",
    "version": 3
   },
   "file_extension": ".py",
   "mimetype": "text/x-python",
   "name": "python",
   "nbconvert_exporter": "python",
   "pygments_lexer": "ipython3",
   "version": "3.10.16"
  }
 },
 "nbformat": 4,
 "nbformat_minor": 5
}
