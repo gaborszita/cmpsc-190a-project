{
 "cells": [
  {
   "cell_type": "markdown",
   "id": "382f657c",
   "metadata": {},
   "source": [
    "# Imports"
   ]
  },
  {
   "cell_type": "code",
   "execution_count": 1,
   "id": "dc6e505a",
   "metadata": {},
   "outputs": [],
   "source": [
    "import pandas as pd\n",
    "import time\n",
    "import random\n",
    "import os\n",
    "from nba_api.stats.endpoints import leaguegamelog, boxscoretraditionalv3, boxscoreadvancedv3\n",
    "\n",
    "pd.set_option('display.max_columns', None)"
   ]
  },
  {
   "cell_type": "markdown",
   "id": "9840c4e5",
   "metadata": {},
   "source": [
    "# Functions"
   ]
  },
  {
   "cell_type": "code",
   "execution_count": 2,
   "id": "cf8c266c",
   "metadata": {},
   "outputs": [],
   "source": [
    "def smart_sleep(min_sec=1.2, max_sec=3.5):\n",
    "    time.sleep(random.uniform(min_sec, max_sec))"
   ]
  },
  {
   "cell_type": "code",
   "execution_count": 3,
   "id": "d598e66b",
   "metadata": {},
   "outputs": [],
   "source": [
    "def get_existing_game_ids(csv_path):\n",
    "    if os.path.exists(csv_path):\n",
    "        existing = pd.read_csv(csv_path, usecols=['gameId'], dtype={'gameId': str})\n",
    "        return set(existing['gameId'].unique())\n",
    "    return set()"
   ]
  },
  {
   "cell_type": "code",
   "execution_count": 4,
   "id": "f55e0133",
   "metadata": {},
   "outputs": [],
   "source": [
    "# Returns a dataframe of all regular season games with GAME_ID, GAME_DATE, SEASON, and GAME_DATE\n",
    "def get_all_game_ids_and_dates(season):\n",
    "    # Get all games for regular season\n",
    "    print(f\"📅 Fetching games for {season} season\")\n",
    "    gamelog = leaguegamelog.LeagueGameLog(\n",
    "        season=season,\n",
    "        player_or_team_abbreviation='T',\n",
    "        season_type_all_star='Regular Season'\n",
    "    )\n",
    "    df = gamelog.get_data_frames()[0]\n",
    "    df = df[['GAME_ID', 'GAME_DATE']]\n",
    "    df['SEASON'] = season\n",
    "    df['GAME_DATE'] = pd.to_datetime(df['GAME_DATE'])\n",
    "\n",
    "    # Drop duplicates since done for each team\n",
    "    df = df.drop_duplicates(subset='GAME_ID')\n",
    "\n",
    "    return df"
   ]
  },
  {
   "cell_type": "code",
   "execution_count": 5,
   "id": "ffc95640",
   "metadata": {},
   "outputs": [],
   "source": [
    "# Returns a dataframe with all relevant data for a game\n",
    "def fetch_box_score(game_id):\n",
    "    # Load traditional and advanced boxscores\n",
    "    traditional_box = boxscoretraditionalv3.BoxScoreTraditionalV3(game_id=game_id)\n",
    "    smart_sleep()\n",
    "    advanced_box = boxscoreadvancedv3.BoxScoreAdvancedV3(game_id=game_id)\n",
    "\n",
    "    # Get player boxscores\n",
    "    traditional_player_df = traditional_box.player_stats.get_data_frame()\n",
    "    advanced_player_df = advanced_box.player_stats.get_data_frame() \n",
    "\n",
    "    # Remove duplicate columns from advanced player boxscore\n",
    "    advanced_player_df = advanced_player_df.drop([\n",
    "        \"gameId\",\n",
    "        \"teamId\",\n",
    "        \"teamCity\",\n",
    "        \"teamName\",\n",
    "        \"teamTricode\",\n",
    "        \"teamSlug\",\n",
    "        \"firstName\",\n",
    "        \"familyName\",\n",
    "        \"nameI\",\n",
    "        \"playerSlug\",\n",
    "        \"position\",\n",
    "        \"comment\",\n",
    "        \"jerseyNum\",\n",
    "        \"minutes\"\n",
    "    ], axis=1)\n",
    "\n",
    "    # Merge traditional and advanced player boxscores\n",
    "    player_df = traditional_player_df.merge(advanced_player_df, on='personId', how='left')\n",
    "\n",
    "    # Get team boxscores\n",
    "    traditional_team_df = traditional_box.team_stats.get_data_frame()\n",
    "    advanced_team_df = advanced_box.team_stats.get_data_frame()\n",
    "\n",
    "    # Remove duplicate columns from advanced team boxscore\n",
    "    advanced_team_df = advanced_team_df.drop([\n",
    "        \"gameId\", \n",
    "        \"teamCity\", \n",
    "        \"teamName\", \n",
    "        \"teamTricode\", \n",
    "        \"teamSlug\", \n",
    "        \"minutes\", \n",
    "    ], axis=1)\n",
    "\n",
    "    # Merge traditional and advanced team boxscores\n",
    "    team_df = traditional_team_df.merge(advanced_team_df, on='teamId', how='left')\n",
    "\n",
    "\n",
    "    # Add home column\n",
    "    team_df.loc[0, 'home'] = False\n",
    "    team_df.loc[1, 'home'] = True\n",
    "\n",
    "    # Add won column\n",
    "    team_df.loc[team_df['points'] == team_df['points'].max(), 'won'] = True\n",
    "    team_df.loc[team_df['points'] == team_df['points'].min(), 'won'] = False\n",
    "\n",
    "\n",
    "\n",
    "    # Remove duplicate columns from team boxscore and rename minutes\n",
    "    team_df = team_df.drop([\n",
    "        \"gameId\", \n",
    "        \"teamCity\", \n",
    "        \"teamName\", \n",
    "        \"teamTricode\", \n",
    "        \"teamSlug\"\n",
    "    ], axis=1)\n",
    "\n",
    "    team_df = team_df.rename(columns={'minutes': 'gameMin'})\n",
    "\n",
    "    # Set opponent teamId\n",
    "    team_df['opp_teamId'] = team_df['teamId'].apply(lambda x: team_df.loc[team_df['teamId'] != x, 'teamId'].values[0])\n",
    "\n",
    "    # Add team team stats to player stats\n",
    "    team_team_df = team_df.copy()\n",
    "    team_team_df = team_team_df.add_prefix('team_')\n",
    "    team_team_df = team_team_df.rename(columns={'team_gameMin': 'gameMin', 'team_won': 'won', 'team_home': 'home'})\n",
    "\n",
    "    player_df = player_df.merge(team_team_df, left_on='teamId', right_on='team_teamId', how='left')\n",
    "    player_df = player_df.drop(['team_teamId', 'team_opp_teamId'], axis=1)\n",
    "\n",
    "    # Add opponent team stats to player stats\n",
    "    opp_team_df = team_df.copy()\n",
    "    opp_team_df = opp_team_df.drop(['gameMin', 'home', 'won'], axis=1)\n",
    "    opp_team_df = opp_team_df.add_prefix('opp_')\n",
    "\n",
    "    player_df = player_df.merge(opp_team_df, left_on='teamId', right_on='opp_opp_teamId', how='left')\n",
    "    player_df = player_df.drop(['opp_opp_teamId', 'opp_teamId'], axis=1)\n",
    "\n",
    "    return player_df"
   ]
  },
  {
   "cell_type": "code",
   "execution_count": 6,
   "id": "9927e6ea",
   "metadata": {},
   "outputs": [],
   "source": [
    "def main(season):\n",
    "    csv_path = f\"data/nba_boxscores_{season}.csv\"\n",
    "\n",
    "    print(\"🔍 Checking existing data...\")\n",
    "    existing_game_ids = get_existing_game_ids(csv_path)\n",
    "\n",
    "    print(\"📅 Getting game IDs + dates for season...\")\n",
    "    games_df = get_all_game_ids_and_dates(season)\n",
    "    new_games = games_df[~games_df['GAME_ID'].isin(existing_game_ids)]\n",
    "    new_games = new_games.reset_index(drop=True)\n",
    "\n",
    "    print(f\"🆕 Found {len(new_games)} new games to fetch.\")\n",
    "\n",
    "    for i, row in new_games.iterrows():\n",
    "        game_id = row['GAME_ID']\n",
    "        game_date = row['GAME_DATE']\n",
    "\n",
    "        try:\n",
    "            print(f\"📦 Fetching box score for {game_id} ({game_date.date()}) [{i+1}/{len(new_games)}]\")\n",
    "            df = fetch_box_score(game_id)\n",
    "            df['gameDate'] = game_date\n",
    "\n",
    "            if os.path.exists(csv_path):\n",
    "                df.to_csv(csv_path, mode='a', header=False, index=False)\n",
    "            else:\n",
    "                df.to_csv(csv_path, index=False)\n",
    "\n",
    "            print(f\"✅ Success fetching {game_id}\\n\")\n",
    "            smart_sleep()\n",
    "            \n",
    "        except Exception as e:\n",
    "            print(f\"❌ Error fetching {game_id}: {e}\\n\")\n",
    "            continue"
   ]
  },
  {
   "cell_type": "markdown",
   "id": "fdfc59c8",
   "metadata": {},
   "source": [
    "# Main"
   ]
  },
  {
   "cell_type": "code",
   "execution_count": 7,
   "id": "0d63f805",
   "metadata": {},
   "outputs": [
    {
     "name": "stdout",
     "output_type": "stream",
     "text": [
      "🔍 Checking existing data...\n",
      "📅 Getting game IDs + dates for season...\n",
      "📅 Fetching games for 2024-25 season\n",
      "🆕 Found 1230 new games to fetch.\n",
      "📦 Fetching box score for 0022400062 (2024-10-22) [1/1230]\n",
      "✅ Success fetching 0022400062\n",
      "\n",
      "📦 Fetching box score for 0022400061 (2024-10-22) [2/1230]\n",
      "✅ Success fetching 0022400061\n",
      "\n",
      "📦 Fetching box score for 0022400072 (2024-10-23) [3/1230]\n"
     ]
    },
    {
     "ename": "KeyboardInterrupt",
     "evalue": "",
     "output_type": "error",
     "traceback": [
      "\u001b[0;31m---------------------------------------------------------------------------\u001b[0m",
      "\u001b[0;31mKeyboardInterrupt\u001b[0m                         Traceback (most recent call last)",
      "Cell \u001b[0;32mIn[7], line 1\u001b[0m\n\u001b[0;32m----> 1\u001b[0m \u001b[43mmain\u001b[49m\u001b[43m(\u001b[49m\u001b[38;5;124;43m'\u001b[39;49m\u001b[38;5;124;43m2024-25\u001b[39;49m\u001b[38;5;124;43m'\u001b[39;49m\u001b[43m)\u001b[49m\n",
      "Cell \u001b[0;32mIn[6], line 20\u001b[0m, in \u001b[0;36mmain\u001b[0;34m(season)\u001b[0m\n\u001b[1;32m     18\u001b[0m \u001b[38;5;28;01mtry\u001b[39;00m:\n\u001b[1;32m     19\u001b[0m     \u001b[38;5;28mprint\u001b[39m(\u001b[38;5;124mf\u001b[39m\u001b[38;5;124m\"\u001b[39m\u001b[38;5;124m📦 Fetching box score for \u001b[39m\u001b[38;5;132;01m{\u001b[39;00mgame_id\u001b[38;5;132;01m}\u001b[39;00m\u001b[38;5;124m (\u001b[39m\u001b[38;5;132;01m{\u001b[39;00mgame_date\u001b[38;5;241m.\u001b[39mdate()\u001b[38;5;132;01m}\u001b[39;00m\u001b[38;5;124m) [\u001b[39m\u001b[38;5;132;01m{\u001b[39;00mi\u001b[38;5;241m+\u001b[39m\u001b[38;5;241m1\u001b[39m\u001b[38;5;132;01m}\u001b[39;00m\u001b[38;5;124m/\u001b[39m\u001b[38;5;132;01m{\u001b[39;00m\u001b[38;5;28mlen\u001b[39m(new_games)\u001b[38;5;132;01m}\u001b[39;00m\u001b[38;5;124m]\u001b[39m\u001b[38;5;124m\"\u001b[39m)\n\u001b[0;32m---> 20\u001b[0m     df \u001b[38;5;241m=\u001b[39m \u001b[43mfetch_box_score\u001b[49m\u001b[43m(\u001b[49m\u001b[43mgame_id\u001b[49m\u001b[43m)\u001b[49m\n\u001b[1;32m     21\u001b[0m     df[\u001b[38;5;124m'\u001b[39m\u001b[38;5;124mgameDate\u001b[39m\u001b[38;5;124m'\u001b[39m] \u001b[38;5;241m=\u001b[39m game_date\n\u001b[1;32m     23\u001b[0m     \u001b[38;5;28;01mif\u001b[39;00m os\u001b[38;5;241m.\u001b[39mpath\u001b[38;5;241m.\u001b[39mexists(csv_path):\n",
      "Cell \u001b[0;32mIn[5], line 5\u001b[0m, in \u001b[0;36mfetch_box_score\u001b[0;34m(game_id)\u001b[0m\n\u001b[1;32m      2\u001b[0m \u001b[38;5;28;01mdef\u001b[39;00m\u001b[38;5;250m \u001b[39m\u001b[38;5;21mfetch_box_score\u001b[39m(game_id):\n\u001b[1;32m      3\u001b[0m     \u001b[38;5;66;03m# Load traditional and advanced boxscores\u001b[39;00m\n\u001b[1;32m      4\u001b[0m     traditional_box \u001b[38;5;241m=\u001b[39m boxscoretraditionalv3\u001b[38;5;241m.\u001b[39mBoxScoreTraditionalV3(game_id\u001b[38;5;241m=\u001b[39mgame_id)\n\u001b[0;32m----> 5\u001b[0m     \u001b[43msmart_sleep\u001b[49m\u001b[43m(\u001b[49m\u001b[43m)\u001b[49m\n\u001b[1;32m      6\u001b[0m     advanced_box \u001b[38;5;241m=\u001b[39m boxscoreadvancedv3\u001b[38;5;241m.\u001b[39mBoxScoreAdvancedV3(game_id\u001b[38;5;241m=\u001b[39mgame_id)\n\u001b[1;32m      8\u001b[0m     \u001b[38;5;66;03m# Get player boxscores\u001b[39;00m\n",
      "Cell \u001b[0;32mIn[2], line 2\u001b[0m, in \u001b[0;36msmart_sleep\u001b[0;34m(min_sec, max_sec)\u001b[0m\n\u001b[1;32m      1\u001b[0m \u001b[38;5;28;01mdef\u001b[39;00m\u001b[38;5;250m \u001b[39m\u001b[38;5;21msmart_sleep\u001b[39m(min_sec\u001b[38;5;241m=\u001b[39m\u001b[38;5;241m1.2\u001b[39m, max_sec\u001b[38;5;241m=\u001b[39m\u001b[38;5;241m3.5\u001b[39m):\n\u001b[0;32m----> 2\u001b[0m     \u001b[43mtime\u001b[49m\u001b[38;5;241;43m.\u001b[39;49m\u001b[43msleep\u001b[49m\u001b[43m(\u001b[49m\u001b[43mrandom\u001b[49m\u001b[38;5;241;43m.\u001b[39;49m\u001b[43muniform\u001b[49m\u001b[43m(\u001b[49m\u001b[43mmin_sec\u001b[49m\u001b[43m,\u001b[49m\u001b[43m \u001b[49m\u001b[43mmax_sec\u001b[49m\u001b[43m)\u001b[49m\u001b[43m)\u001b[49m\n",
      "\u001b[0;31mKeyboardInterrupt\u001b[0m: "
     ]
    }
   ],
   "source": [
    "main('2024-25')"
   ]
  },
  {
   "cell_type": "code",
   "execution_count": null,
   "id": "391669e0",
   "metadata": {},
   "outputs": [],
   "source": []
  }
 ],
 "metadata": {
  "kernelspec": {
   "display_name": "cs190a",
   "language": "python",
   "name": "python3"
  },
  "language_info": {
   "codemirror_mode": {
    "name": "ipython",
    "version": 3
   },
   "file_extension": ".py",
   "mimetype": "text/x-python",
   "name": "python",
   "nbconvert_exporter": "python",
   "pygments_lexer": "ipython3",
   "version": "3.10.16"
  }
 },
 "nbformat": 4,
 "nbformat_minor": 5
}
