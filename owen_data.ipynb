{
 "cells": [
  {
   "cell_type": "markdown",
   "id": "3ceb52bd",
   "metadata": {},
   "source": [
    "# Imports"
   ]
  },
  {
   "cell_type": "code",
   "execution_count": 4,
   "id": "3a43b251",
   "metadata": {},
   "outputs": [],
   "source": [
    "import pandas as pd\n",
    "import numpy as np\n",
    "from sklearn.model_selection import train_test_split\n",
    "from xgboost import XGBRegressor, plot_importance\n",
    "from sklearn.metrics import mean_squared_error\n",
    "import matplotlib.pyplot as plt\n",
    "\n",
    "pd.set_option('display.max_columns', None)"
   ]
  },
  {
   "cell_type": "markdown",
   "id": "2f82936b",
   "metadata": {},
   "source": [
    "# Loading Data"
   ]
  },
  {
   "cell_type": "code",
   "execution_count": 5,
   "id": "f9dd7cf6",
   "metadata": {},
   "outputs": [],
   "source": [
    "season_2024_25 = pd.read_csv('data/nba_boxscores_2024-25.csv')"
   ]
  },
  {
   "cell_type": "code",
   "execution_count": null,
   "id": "1ad2e37a",
   "metadata": {},
   "outputs": [],
   "source": [
    "season_2023_24 = pd.read_csv('data/nba_boxscores_2023-24.csv')"
   ]
  },
  {
   "cell_type": "code",
   "execution_count": null,
   "id": "74fd3acb",
   "metadata": {},
   "outputs": [],
   "source": [
    "season_2022_23 = pd.read_csv('data/nba_boxscores_2022-23.csv')"
   ]
  },
  {
   "cell_type": "code",
   "execution_count": null,
   "id": "f29aa760",
   "metadata": {},
   "outputs": [],
   "source": [
    "data = pd.concat([season_2024_25, season_2023_24, season_2022_23], ignore_index=True)"
   ]
  },
  {
   "cell_type": "markdown",
   "id": "0aa0af33",
   "metadata": {},
   "source": [
    "# Feature Engineering"
   ]
  },
  {
   "cell_type": "markdown",
   "id": "93ef9e32",
   "metadata": {},
   "source": [
    "## Rolling 5"
   ]
  },
  {
   "cell_type": "code",
   "execution_count": null,
   "id": "916dd915",
   "metadata": {},
   "outputs": [],
   "source": [
    "data['GAME_DATE'] = pd.to_datetime(data['GAME_DATE'])\n",
    "\n",
    "data = data.sort_values(['PLAYER_NAME', 'GAME_DATE']).reset_index(drop=True)"
   ]
  },
  {
   "cell_type": "code",
   "execution_count": null,
   "id": "bf51eb7c",
   "metadata": {},
   "outputs": [],
   "source": [
    "def parse_minutes_to_seconds(time_str):\n",
    "    if pd.isna(time_str):\n",
    "        return None\n",
    "    try:\n",
    "        # Split by colon\n",
    "        minutes_part, seconds_part = str(time_str).split(':')\n",
    "        # Convert minute to float, in case it's like \"36.000000\"\n",
    "        minutes = float(minutes_part)\n",
    "        seconds = int(seconds_part)\n",
    "        total_seconds = int(minutes * 60 + seconds)\n",
    "        return total_seconds\n",
    "    except:\n",
    "        return None  # if formatting fails\n",
    "    \n",
    "data['SEC'] = data['MIN'].apply(parse_minutes_to_seconds)\n"
   ]
  },
  {
   "cell_type": "code",
   "execution_count": null,
   "id": "21e00182",
   "metadata": {},
   "outputs": [],
   "source": [
    "def rolling_5(stat):\n",
    "    data[f'{stat}_rolling_5'] = (\n",
    "        data.groupby('PLAYER_NAME')[stat]\n",
    "            .transform(lambda x: x.shift().rolling(window=5).mean())\n",
    "    )"
   ]
  },
  {
   "cell_type": "code",
   "execution_count": null,
   "id": "61624492",
   "metadata": {},
   "outputs": [],
   "source": [
    "rolling_5('PTS')\n",
    "rolling_5('FGM')\n",
    "rolling_5('FG_PCT')\n",
    "rolling_5('SEC')\n",
    "rolling_5('FGA')\n",
    "rolling_5('FG3M')\n",
    "rolling_5('FT_PCT')\n",
    "rolling_5('AST')"
   ]
  },
  {
   "cell_type": "markdown",
   "id": "c11f6265",
   "metadata": {},
   "source": [
    "## Opponent"
   ]
  },
  {
   "cell_type": "markdown",
   "id": "355fdfc5",
   "metadata": {},
   "source": [
    "# Model"
   ]
  },
  {
   "cell_type": "code",
   "execution_count": null,
   "id": "f727aa8d",
   "metadata": {},
   "outputs": [],
   "source": [
    "player_data = data[data['PLAYER_NAME'] == 'Austin Reaves']"
   ]
  },
  {
   "cell_type": "code",
   "execution_count": null,
   "id": "99e2ab64",
   "metadata": {},
   "outputs": [],
   "source": [
    "# Select feature to predict\n",
    "target = \"PTS\"\n",
    "\n",
    "# Select features to train on\n",
    "features = [\n",
    "    \"PTS_rolling_5\",\n",
    "    \"FGM_rolling_5\",\n",
    "    \"FG_PCT_rolling_5\",\n",
    "    \"SEC_rolling_5\",\n",
    "    \"FGA_rolling_5\",\n",
    "    \"FG3M_rolling_5\",\n",
    "    \"FT_PCT_rolling_5\",\n",
    "    \"AST_rolling_5\"\n",
    "]\n",
    "\n",
    "# Drop rows with missing data (or impute if you prefer)\n",
    "player_data = player_data.dropna(subset=features + [target])\n",
    "\n",
    "# Split into features (X) and target (y)\n",
    "X = player_data[features]\n",
    "y = player_data[target]\n",
    "\n",
    "# Split train/test by time order to avoid data leakage\n",
    "X_train, X_test, y_train, y_test = train_test_split(X, y, shuffle=False)\n",
    "\n",
    "# Train the XGBoost Regressor\n",
    "model = XGBRegressor(\n",
    "    n_estimators=100,\n",
    "    learning_rate=0.1,\n",
    "    max_depth=4,\n",
    "    subsample=0.8,\n",
    "    colsample_bytree=0.8,\n",
    "    random_state=42\n",
    ")\n",
    "\n",
    "model.fit(X_train, y_train)\n",
    "\n",
    "# Predict and evaluate\n",
    "y_pred = model.predict(X_test)\n",
    "mse = mean_squared_error(y_test, y_pred)\n",
    "rmse = np.sqrt(mse)\n",
    "print(f\"Test RMSE: {rmse:.2f} points\")\n",
    "\n",
    "# Plot Feature Importance\n",
    "plot_importance(model, max_num_features=10)\n",
    "plt.title(\"Top 10 Feature Importances\")\n",
    "plt.show()"
   ]
  },
  {
   "cell_type": "code",
   "execution_count": null,
   "id": "19141b2b",
   "metadata": {},
   "outputs": [],
   "source": []
  }
 ],
 "metadata": {
  "kernelspec": {
   "display_name": "cs190a",
   "language": "python",
   "name": "python3"
  },
  "language_info": {
   "codemirror_mode": {
    "name": "ipython",
    "version": 3
   },
   "file_extension": ".py",
   "mimetype": "text/x-python",
   "name": "python",
   "nbconvert_exporter": "python",
   "pygments_lexer": "ipython3",
   "version": "3.10.16"
  }
 },
 "nbformat": 4,
 "nbformat_minor": 5
}
