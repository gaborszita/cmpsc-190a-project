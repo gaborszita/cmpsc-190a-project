{
 "cells": [
  {
   "cell_type": "markdown",
   "id": "3ceb52bd",
   "metadata": {},
   "source": [
    "# Imports"
   ]
  },
  {
   "cell_type": "code",
   "execution_count": 1,
   "id": "3a43b251",
   "metadata": {},
   "outputs": [],
   "source": [
    "import pandas as pd\n",
    "import numpy as np\n",
    "from sklearn.model_selection import train_test_split\n",
    "from xgboost import XGBRegressor, plot_importance\n",
    "from sklearn.metrics import mean_squared_error, mean_absolute_error\n",
    "import matplotlib.pyplot as plt\n",
    "\n",
    "pd.set_option('display.max_columns', None)"
   ]
  },
  {
   "cell_type": "markdown",
   "id": "2f82936b",
   "metadata": {},
   "source": [
    "# Prepare Data"
   ]
  },
  {
   "cell_type": "code",
   "execution_count": 2,
   "id": "8deb4467",
   "metadata": {},
   "outputs": [],
   "source": [
    "# Load data\n",
    "seasons = ['2024-25', '2023-24', '2022-23', '2021-22', '2020-21']\n",
    "data_frames = []\n",
    "\n",
    "for season in seasons:\n",
    "    df = pd.read_csv(f'data/nba_boxscores_{season}.csv')\n",
    "    data_frames.append(df)\n",
    "\n",
    "data = pd.concat(data_frames, ignore_index=True)"
   ]
  },
  {
   "cell_type": "code",
   "execution_count": 3,
   "id": "916dd915",
   "metadata": {},
   "outputs": [],
   "source": [
    "# Sort data based on player and game date\n",
    "data['gameDate'] = pd.to_datetime(data['gameDate'])\n",
    "\n",
    "data = data.sort_values('gameDate').reset_index(drop=True)"
   ]
  },
  {
   "cell_type": "code",
   "execution_count": 4,
   "id": "bf51eb7c",
   "metadata": {},
   "outputs": [],
   "source": [
    "# Add seconds column\n",
    "def parse_minutes_to_seconds(time_str):\n",
    "    if pd.isna(time_str):\n",
    "        return None\n",
    "    try:\n",
    "        # Split by colon\n",
    "        minutes_part, seconds_part = str(time_str).split(':')\n",
    "        # Convert minute to float, in case it's like \"36.000000\"\n",
    "        minutes = float(minutes_part)\n",
    "        seconds = int(seconds_part)\n",
    "        total_seconds = int(minutes * 60 + seconds)\n",
    "        return total_seconds\n",
    "    except:\n",
    "        return None  # if formatting fails\n",
    "    \n",
    "data['seconds'] = data['minutes'].apply(parse_minutes_to_seconds)\n"
   ]
  },
  {
   "cell_type": "code",
   "execution_count": 5,
   "id": "2ac70b58",
   "metadata": {},
   "outputs": [],
   "source": [
    "# Drop rows where player didn't play\n",
    "data = data[data['seconds'] > 0]"
   ]
  },
  {
   "cell_type": "markdown",
   "id": "0aa0af33",
   "metadata": {},
   "source": [
    "# Feature Engineering"
   ]
  },
  {
   "cell_type": "markdown",
   "id": "b7e37387",
   "metadata": {},
   "source": [
    "## Player Rolling"
   ]
  },
  {
   "cell_type": "code",
   "execution_count": 6,
   "id": "21e00182",
   "metadata": {},
   "outputs": [],
   "source": [
    "def player_rolling(stat, num_games):\n",
    "    data[f'{stat}_rolling'] = (\n",
    "        data.groupby('playerSlug')[stat]\n",
    "            .transform(lambda x: x.shift().rolling(window=num_games).mean())\n",
    "    )"
   ]
  },
  {
   "cell_type": "code",
   "execution_count": 7,
   "id": "601d42a1",
   "metadata": {},
   "outputs": [],
   "source": [
    "player_stats = [\n",
    "    'seconds',\n",
    "    'fieldGoalsMade',\n",
    "    'fieldGoalsAttempted',\n",
    "    'fieldGoalsPercentage',\n",
    "    'threePointersMade',\n",
    "    'threePointersAttempted',\n",
    "    'threePointersPercentage',\n",
    "    'freeThrowsMade',\n",
    "    'freeThrowsAttempted',\n",
    "    'freeThrowsPercentage',\n",
    "    'reboundsOffensive',\n",
    "    'reboundsDefensive',\n",
    "    'reboundsTotal',\n",
    "    'assists',\n",
    "    'steals',\n",
    "    'blocks',\n",
    "    'turnovers',\n",
    "    'foulsPersonal',\n",
    "    'points',\n",
    "    'plusMinusPoints',\n",
    "    'estimatedOffensiveRating',\n",
    "    'offensiveRating',\n",
    "    'estimatedDefensiveRating',\n",
    "    'defensiveRating',\n",
    "    'estimatedNetRating',\n",
    "    'netRating',\n",
    "    'assistPercentage',\n",
    "    'assistToTurnover',\n",
    "    'assistRatio',\n",
    "    'offensiveReboundPercentage',\n",
    "    'defensiveReboundPercentage',\n",
    "    'reboundPercentage',\n",
    "    'turnoverRatio',\n",
    "    'effectiveFieldGoalPercentage',\n",
    "    'trueShootingPercentage',\n",
    "    'usagePercentage',\n",
    "    'estimatedUsagePercentage',\n",
    "    'estimatedPace',\n",
    "    'pace',\n",
    "    'pacePer40',\n",
    "    'possessions',\n",
    "    'PIE'\n",
    "]"
   ]
  },
  {
   "cell_type": "code",
   "execution_count": 8,
   "id": "c005f68a",
   "metadata": {},
   "outputs": [],
   "source": [
    "for player_stat in player_stats:\n",
    "    player_rolling(player_stat, 5)"
   ]
  },
  {
   "cell_type": "markdown",
   "id": "b1fbf197",
   "metadata": {},
   "source": [
    "# Opponent Team Rolling"
   ]
  },
  {
   "cell_type": "code",
   "execution_count": 9,
   "id": "c5eddad9",
   "metadata": {},
   "outputs": [],
   "source": [
    "def opp_team_rolling(stat, num_games):\n",
    "    games = data.drop_duplicates(subset=['gameId', 'teamId'])\n",
    "    games = games[['gameId', 'teamId', stat]]\n",
    "\n",
    "    games[f'{stat}_rolling'] = (\n",
    "        games.groupby('teamId')[stat]\n",
    "            .transform(lambda x: x.shift().rolling(window=num_games).mean())\n",
    "    )\n",
    "\n",
    "    merged_df = pd.merge(\n",
    "        data,\n",
    "        games,\n",
    "        left_on=['gameId', 'opp_teamId'],\n",
    "        right_on=['gameId', 'teamId'],\n",
    "        how='left'\n",
    "    )\n",
    "\n",
    "    merged_df = merged_df.drop(columns=['teamId_y', f'{stat}_y'])\n",
    "\n",
    "    stat_base = stat.replace('team_', '', 1)\n",
    "\n",
    "    merged_df = merged_df.rename(columns={\n",
    "        'teamId_x': 'teamId',\n",
    "        f'{stat}_x': f'{stat}',\n",
    "        f'{stat}_rolling': f'opp_{stat_base}_rolling'\n",
    "    })\n",
    "\n",
    "    return merged_df"
   ]
  },
  {
   "cell_type": "code",
   "execution_count": 10,
   "id": "2ba17d52",
   "metadata": {},
   "outputs": [],
   "source": [
    "opp_stats = [\n",
    "    'team_fieldGoalsMade',\n",
    "    'team_fieldGoalsAttempted',\n",
    "    'team_fieldGoalsPercentage',\n",
    "    'team_threePointersMade',\n",
    "    'team_threePointersAttempted',\n",
    "    'team_threePointersPercentage',\n",
    "    'team_freeThrowsMade',\n",
    "    'team_freeThrowsAttempted',\n",
    "    'team_freeThrowsPercentage',\n",
    "    'team_reboundsOffensive',\n",
    "    'team_reboundsDefensive',\n",
    "    'team_reboundsTotal',\n",
    "    'team_assists',\n",
    "    'team_steals',\n",
    "    'team_blocks',\n",
    "    'team_turnovers',\n",
    "    'team_foulsPersonal',\n",
    "    'team_points',\n",
    "    'team_plusMinusPoints',\n",
    "    'team_estimatedOffensiveRating',\n",
    "    'team_offensiveRating',\n",
    "    'team_estimatedDefensiveRating',\n",
    "    'team_defensiveRating',\n",
    "    'team_estimatedNetRating',\n",
    "    'team_netRating',\n",
    "    'team_assistPercentage',\n",
    "    'team_assistToTurnover',\n",
    "    'team_assistRatio',\n",
    "    'team_offensiveReboundPercentage',\n",
    "    'team_defensiveReboundPercentage',\n",
    "    'team_reboundPercentage',\n",
    "    'team_estimatedTeamTurnoverPercentage',\n",
    "    'team_turnoverRatio',\n",
    "    'team_effectiveFieldGoalPercentage',\n",
    "    'team_trueShootingPercentage',\n",
    "    'team_usagePercentage',\n",
    "    'team_estimatedUsagePercentage',\n",
    "    'team_estimatedPace',\n",
    "    'team_pace',\n",
    "    'team_pacePer40',\n",
    "    'team_possessions',\n",
    "    'team_PIE',\n",
    "]"
   ]
  },
  {
   "cell_type": "code",
   "execution_count": 11,
   "id": "ccadb95b",
   "metadata": {},
   "outputs": [],
   "source": [
    "for opp_stat in opp_stats:\n",
    "    data = opp_team_rolling(opp_stat, 5)"
   ]
  },
  {
   "cell_type": "markdown",
   "id": "85669a52",
   "metadata": {},
   "source": [
    "## Player Performance Against Opponent"
   ]
  },
  {
   "cell_type": "code",
   "execution_count": 12,
   "id": "e9a140fd",
   "metadata": {},
   "outputs": [],
   "source": [
    "def player_vs_opponent_rolling(stat, num_games):\n",
    "    data[f'{stat}_player_vs_opp_rolling'] = (\n",
    "        data\n",
    "        .groupby(['playerSlug', 'opp_teamId'])[stat]\n",
    "        .rolling(window=num_games)\n",
    "        .mean()\n",
    "        .groupby(level=[0, 1]).shift(1)  # shift within each group\n",
    "        .reset_index(level=[0,1], drop=True)\n",
    "    )"
   ]
  },
  {
   "cell_type": "code",
   "execution_count": 13,
   "id": "66b997b4",
   "metadata": {},
   "outputs": [],
   "source": [
    "player_vs_opp_stats = ['points']"
   ]
  },
  {
   "cell_type": "code",
   "execution_count": 14,
   "id": "5d79d934",
   "metadata": {},
   "outputs": [],
   "source": [
    "for player_vs_opp_stat in player_vs_opp_stats:\n",
    "    player_vs_opponent_rolling(player_vs_opp_stat, 5)"
   ]
  },
  {
   "cell_type": "markdown",
   "id": "355fdfc5",
   "metadata": {},
   "source": [
    "# Model"
   ]
  },
  {
   "cell_type": "code",
   "execution_count": 15,
   "id": "99e2ab64",
   "metadata": {},
   "outputs": [
    {
     "name": "stdout",
     "output_type": "stream",
     "text": [
      "Test RMSE: 6.48\n",
      "Test MAE: 4.99\n",
      "10-game Average Baseline RMSE: 6.79\n",
      "10-game Average Baseline MAE: 5.20\n",
      "RMSE Improvement over baseline: 0.30\n",
      "MAE Improvement over baseline: 0.21\n"
     ]
    },
    {
     "data": {
      "image/png": "[encoded data removed]",
      "text/plain": [
       "<Figure size 640x480 with 1 Axes>"
      ]
     },
     "metadata": {},
     "output_type": "display_data"
    }
   ],
   "source": [
    "# Select feature to predict\n",
    "target = \"points\"\n",
    "\n",
    "# Select features to train on\n",
    "opp_stats = [stat.replace(\"team_\", \"opp_\") for stat in opp_stats]\n",
    "player_vs_opp_stats = [f\"{player_vs_opp_stat}_player_vs_opp\" for player_vs_opp_stat in player_vs_opp_stats]\n",
    "combined = player_stats + opp_stats + player_vs_opp_stats\n",
    "features = [f\"{feature}_rolling\" for feature in combined]\n",
    "\n",
    "# Drop rows with missing data (or impute if you prefer)\n",
    "data = data.dropna(subset=features + [target])\n",
    "\n",
    "# Split into features (X) and target (y)\n",
    "X = data[features]\n",
    "y = data[target]\n",
    "\n",
    "# Split train/test by time order to avoid data leakage\n",
    "X_train, X_test, y_train, y_test = train_test_split(X, y, shuffle=False)\n",
    "\n",
    "# Train the XGBoost Regressor\n",
    "model = XGBRegressor(\n",
    "    n_estimators=100,\n",
    "    learning_rate=0.1,\n",
    "    max_depth=4,\n",
    "    subsample=0.8,\n",
    "    colsample_bytree=0.8,\n",
    "    random_state=42\n",
    ")\n",
    "\n",
    "model.fit(X_train, y_train)\n",
    "\n",
    "# Predict and evaluate\n",
    "y_pred = model.predict(X_test)\n",
    "mse = mean_squared_error(y_test, y_pred)\n",
    "rmse = np.sqrt(mse)\n",
    "mae = mean_absolute_error(y_test, y_pred)\n",
    "print(f\"Test RMSE: {rmse:.2f}\")\n",
    "print(f\"Test MAE: {mae:.2f}\")\n",
    "\n",
    "# Evaluate baseline (10-game average)\n",
    "y_baseline_pred = X_test[f\"{target}_rolling\"]\n",
    "baseline_mse = mean_squared_error(y_test, y_baseline_pred)\n",
    "baseline_rmse = np.sqrt(baseline_mse)\n",
    "baseline_mae = mean_absolute_error(y_test, y_baseline_pred)\n",
    "print(f\"10-game Average Baseline RMSE: {baseline_rmse:.2f}\")\n",
    "print(f\"10-game Average Baseline MAE: {baseline_mae:.2f}\")\n",
    "\n",
    "# Improvement\n",
    "rmse_improvement = baseline_rmse - rmse\n",
    "mae_improvement = baseline_mae - mae\n",
    "print(f\"RMSE Improvement over baseline: {rmse_improvement:.2f}\")\n",
    "print(f\"MAE Improvement over baseline: {mae_improvement:.2f}\")\n",
    "\n",
    "# Plot Feature Importance\n",
    "plot_importance(model, max_num_features=10)\n",
    "plt.title(\"Top 10 Feature Importances\")\n",
    "plt.show()"
   ]
  },
  {
   "cell_type": "code",
   "execution_count": null,
   "id": "057fcfa6",
   "metadata": {},
   "outputs": [],
   "source": []
  }
 ],
 "metadata": {
  "kernelspec": {
   "display_name": "cs190a",
   "language": "python",
   "name": "python3"
  },
  "language_info": {
   "codemirror_mode": {
    "name": "ipython",
    "version": 3
   },
   "file_extension": ".py",
   "mimetype": "text/x-python",
   "name": "python",
   "nbconvert_exporter": "python",
   "pygments_lexer": "ipython3",
   "version": "3.10.16"
  }
 },
 "nbformat": 4,
 "nbformat_minor": 5
}
