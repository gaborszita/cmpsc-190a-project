{
 "cells": [
  {
   "cell_type": "markdown",
   "id": "382f657c",
   "metadata": {},
   "source": [
    "# Imports"
   ]
  },
  {
   "cell_type": "code",
   "execution_count": null,
   "id": "dc6e505a",
   "metadata": {},
   "outputs": [],
   "source": [
    "import pandas as pd\n",
    "import time\n",
    "import random\n",
    "import os\n",
    "from nba_api.stats.endpoints import leaguegamelog, boxscoretraditionalv3, boxscoreadvancedv3\n",
    "\n",
    "pd.set_option('display.max_columns', None)"
   ]
  },
  {
   "cell_type": "markdown",
   "id": "979cb933",
   "metadata": {},
   "source": [
    "# Configuration"
   ]
  },
  {
   "cell_type": "code",
   "execution_count": null,
   "id": "22998a75",
   "metadata": {},
   "outputs": [],
   "source": [
    "season = '2014-15'"
   ]
  },
  {
   "cell_type": "markdown",
   "id": "9840c4e5",
   "metadata": {},
   "source": [
    "# Functions"
   ]
  },
  {
   "cell_type": "code",
   "execution_count": null,
   "id": "cf8c266c",
   "metadata": {},
   "outputs": [],
   "source": [
    "# Sleep for dynamic time\n",
    "def smart_sleep(min_sec=0.8, max_sec=1.4):\n",
    "    time.sleep(random.uniform(min_sec, max_sec))"
   ]
  },
  {
   "cell_type": "code",
   "execution_count": null,
   "id": "d598e66b",
   "metadata": {},
   "outputs": [],
   "source": [
    "# Get a set of existing game IDs from a CSV file\n",
    "def get_existing_game_ids(csv_path):\n",
    "    if os.path.exists(csv_path):\n",
    "        existing = pd.read_csv(csv_path, usecols=['gameId'], dtype={'gameId': str})\n",
    "        return set(existing['gameId'].unique())\n",
    "    return set()"
   ]
  },
  {
   "cell_type": "code",
   "execution_count": null,
   "id": "f55e0133",
   "metadata": {},
   "outputs": [],
   "source": [
    "# Get all game IDs and dates for a given season\n",
    "def get_all_game_ids_and_dates(season):\n",
    "    gamelog = leaguegamelog.LeagueGameLog(\n",
    "        season=season,\n",
    "        player_or_team_abbreviation='T',\n",
    "        season_type_all_star='Regular Season'\n",
    "    )\n",
    "    smart_sleep()\n",
    "    df = gamelog.get_data_frames()[0]\n",
    "    df = df[['GAME_ID', 'GAME_DATE']]\n",
    "    df['GAME_DATE'] = pd.to_datetime(df['GAME_DATE'])\n",
    "\n",
    "    df = df.drop_duplicates(subset='GAME_ID')\n",
    "\n",
    "    return df"
   ]
  },
  {
   "cell_type": "code",
   "execution_count": null,
   "id": "ffc95640",
   "metadata": {},
   "outputs": [],
   "source": [
    "# Fetch player and team traditional box scores for a game\n",
    "def fetch_traditional(game_id):\n",
    "    traditional_box = boxscoretraditionalv3.BoxScoreTraditionalV3(game_id=game_id)\n",
    "    smart_sleep()\n",
    "\n",
    "    traditional_player_df = traditional_box.player_stats.get_data_frame()\n",
    "    traditional_team_df = traditional_box.team_stats.get_data_frame()\n",
    "\n",
    "    return traditional_player_df, traditional_team_df\n"
   ]
  },
  {
   "cell_type": "code",
   "execution_count": null,
   "id": "d0f7a0c2",
   "metadata": {},
   "outputs": [],
   "source": [
    "# Fetch player and team advanced box scores for a game\n",
    "def fetch_advanced(game_id):\n",
    "    advanced_box = boxscoreadvancedv3.BoxScoreAdvancedV3(game_id=game_id)\n",
    "    smart_sleep()\n",
    "\n",
    "    advanced_player_df = advanced_box.player_stats.get_data_frame() \n",
    "    advanced_team_df = advanced_box.team_stats.get_data_frame()\n",
    "\n",
    "    return advanced_player_df, advanced_team_df"
   ]
  },
  {
   "cell_type": "code",
   "execution_count": null,
   "id": "9927e6ea",
   "metadata": {},
   "outputs": [],
   "source": [
    "def main(season):\n",
    "    os.makedirs(f\"data/{season}\", exist_ok=True)\n",
    "\n",
    "    print(f\"🔍 Checking existing data for {season}...\")\n",
    "    \n",
    "    paths = [\n",
    "        f\"data/{season}/traditional_player_{season}.csv\",\n",
    "        f\"data/{season}/traditional_team_{season}.csv\",\n",
    "        f\"data/{season}/advanced_player_{season}.csv\",\n",
    "        f\"data/{season}/advanced_team_{season}.csv\"\n",
    "    ]\n",
    "\n",
    "    # Create a 4-element list to hold existing game IDs for each path\n",
    "    existing_game_ids_list = []\n",
    "    for path in paths:\n",
    "        existing_game_ids_list.append(get_existing_game_ids(path))\n",
    "\n",
    "    print(f\"📅 Fetching games for {season} season\")\n",
    "    game_id_df = get_all_game_ids_and_dates(season)\n",
    "\n",
    "    # Create a 4-element list to hold missing game IDs for each path\n",
    "    missing_games_ids_list = []\n",
    "    for i, existing_game_ids in enumerate(existing_game_ids_list):\n",
    "        missing_games = game_id_df[~game_id_df['GAME_ID'].isin(existing_game_ids)].reset_index(drop=True)\n",
    "        missing_games_ids_list.append(missing_games)\n",
    "\n",
    "    # Create a union of all missing game IDs for traditional/advanced player and team box scores\n",
    "    missing_traditional_games = pd.concat([missing_games_ids_list[0], missing_games_ids_list[1]]).drop_duplicates(subset='GAME_ID').reset_index(drop=True)\n",
    "    missing_advanced_games = pd.concat([missing_games_ids_list[2], missing_games_ids_list[3]]).drop_duplicates(subset='GAME_ID').reset_index(drop=True)\n",
    "\n",
    "    # Fetch missing traditional stats\n",
    "    print(f\"📝 {len(missing_traditional_games)} missing traditional games to fetch.\")\n",
    "    for i, row in missing_traditional_games.iterrows():\n",
    "        game_id = row['GAME_ID']\n",
    "        game_date = row['GAME_DATE']\n",
    "        print(f\"📦 Traditional {game_id} ({game_date.date()}) [{i+1}/{len(missing_traditional_games)}]\")\n",
    "\n",
    "        try:\n",
    "            traditional_player_df, traditional_team_df = fetch_traditional(game_id)\n",
    "            traditional_player_df['gameDate'] = game_date\n",
    "            traditional_team_df['gameDate'] = game_date\n",
    "\n",
    "            # Only append if missing in the CSV file\n",
    "            if game_id in missing_games_ids_list[0]['GAME_ID'].values:\n",
    "                traditional_player_df.to_csv(paths[0], mode='a' if os.path.exists(paths[0]) else 'w', header=not os.path.exists(paths[0]), index=False)\n",
    "            if game_id in missing_games_ids_list[1]['GAME_ID'].values:\n",
    "                traditional_team_df.to_csv(paths[1], mode='a' if os.path.exists(paths[1]) else 'w', header=not os.path.exists(paths[1]), index=False)\n",
    "\n",
    "            print(\"✅ Success\\n\")\n",
    "        except Exception as e:\n",
    "            print(f\"❌ Error fetching {game_id}: {e}\\n\")\n",
    "            continue\n",
    "\n",
    "    print(f\"📝 {len(missing_advanced_games)} missing advanced games to fetch.\")\n",
    "    for i, row in missing_advanced_games.iterrows():\n",
    "        game_id = row['GAME_ID']\n",
    "        game_date = row['GAME_DATE']\n",
    "        print(f\"📦 Advanced {game_id} ({game_date.date()}) [{i+1}/{len(missing_advanced_games)}]\")\n",
    "\n",
    "        try:\n",
    "            advanced_player_df, advanced_team_df = fetch_advanced(game_id)\n",
    "            advanced_player_df['gameDate'] = game_date\n",
    "            advanced_team_df['gameDate'] = game_date\n",
    "\n",
    "            # Only append if missing in the CSV file\n",
    "            if game_id in missing_games_ids_list[2]['GAME_ID'].values:\n",
    "                advanced_player_df.to_csv(paths[2], mode='a' if os.path.exists(paths[2]) else 'w', header=not os.path.exists(paths[2]), index=False)\n",
    "            if game_id in missing_games_ids_list[3]['GAME_ID'].values:\n",
    "                advanced_team_df.to_csv(paths[3], mode='a' if os.path.exists(paths[3]) else 'w', header=not os.path.exists(paths[3]), index=False)\n",
    "\n",
    "            print(\"✅ Success\\n\")\n",
    "        except Exception as e:\n",
    "            print(f\"❌ Error fetching {game_id}: {e}\\n\")\n",
    "            continue\n",
    "\n",
    "    print(\"🏁 Done!\")"
   ]
  },
  {
   "cell_type": "markdown",
   "id": "fdfc59c8",
   "metadata": {},
   "source": [
    "# Main"
   ]
  },
  {
   "cell_type": "code",
   "execution_count": null,
   "id": "0d63f805",
   "metadata": {},
   "outputs": [],
   "source": [
    "main(season)"
   ]
  }
 ],
 "metadata": {
  "kernelspec": {
   "display_name": "cs190a",
   "language": "python",
   "name": "python3"
  },
  "language_info": {
   "codemirror_mode": {
    "name": "ipython",
    "version": 3
   },
   "file_extension": ".py",
   "mimetype": "text/x-python",
   "name": "python",
   "nbconvert_exporter": "python",
   "pygments_lexer": "ipython3",
   "version": "3.10.16"
  }
 },
 "nbformat": 4,
 "nbformat_minor": 5
}
