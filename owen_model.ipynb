{
 "cells": [
  {
   "cell_type": "markdown",
   "id": "3ceb52bd",
   "metadata": {},
   "source": [
    "# Imports"
   ]
  },
  {
   "cell_type": "code",
   "execution_count": 1,
   "id": "3a43b251",
   "metadata": {},
   "outputs": [],
   "source": [
    "import pandas as pd\n",
    "import numpy as np\n",
    "from sklearn.model_selection import train_test_split, RandomizedSearchCV, TimeSeriesSplit\n",
    "from xgboost import XGBRegressor, plot_importance\n",
    "from sklearn.metrics import mean_squared_error, mean_absolute_error\n",
    "import matplotlib.pyplot as plt\n",
    "from scipy.stats import uniform, randint\n",
    "\n",
    "pd.set_option('display.max_columns', None)"
   ]
  },
  {
   "cell_type": "markdown",
   "id": "2dafd626",
   "metadata": {},
   "source": [
    "# Configuration"
   ]
  },
  {
   "cell_type": "code",
   "execution_count": 2,
   "id": "9bd2adfa",
   "metadata": {},
   "outputs": [],
   "source": [
    "seasons = ['2024-25', '2023-24', '2022-23', '2021-22', '2020-21', '2019-20', '2018-19', '2017-18', '2016-17', '2015-16']"
   ]
  },
  {
   "cell_type": "code",
   "execution_count": 3,
   "id": "4943cd01",
   "metadata": {},
   "outputs": [],
   "source": [
    "rolling_window = 3"
   ]
  },
  {
   "cell_type": "markdown",
   "id": "2f82936b",
   "metadata": {},
   "source": [
    "# Prepare Data"
   ]
  },
  {
   "cell_type": "code",
   "execution_count": 4,
   "id": "8deb4467",
   "metadata": {},
   "outputs": [],
   "source": [
    "# Load data\n",
    "data_frames = []\n",
    "\n",
    "for season in seasons:\n",
    "    df = pd.read_csv(f\"data/{season}/processed_{season}.csv\")\n",
    "    data_frames.append(df)\n",
    "\n",
    "data = pd.concat(data_frames, ignore_index=True)"
   ]
  },
  {
   "cell_type": "code",
   "execution_count": 5,
   "id": "916dd915",
   "metadata": {},
   "outputs": [],
   "source": [
    "# Sort data based on player and game date\n",
    "data['gameDate'] = pd.to_datetime(data['gameDate'])\n",
    "\n",
    "data = data.sort_values('gameDate').reset_index(drop=True)"
   ]
  },
  {
   "cell_type": "code",
   "execution_count": 6,
   "id": "bf51eb7c",
   "metadata": {},
   "outputs": [],
   "source": [
    "# Add seconds column\n",
    "def parse_minutes_to_seconds(time_str):\n",
    "    if pd.isna(time_str):\n",
    "        return None\n",
    "    try:\n",
    "        # Split by colon\n",
    "        minutes_part, seconds_part = str(time_str).split(':')\n",
    "        # Convert minute to float, in case it's like \"36.000000\"\n",
    "        minutes = float(minutes_part)\n",
    "        seconds = int(seconds_part)\n",
    "        total_seconds = int(minutes * 60 + seconds)\n",
    "        return total_seconds\n",
    "    except:\n",
    "        return None\n",
    "    \n",
    "data['seconds'] = data['minutes'].apply(parse_minutes_to_seconds)\n"
   ]
  },
  {
   "cell_type": "code",
   "execution_count": 7,
   "id": "2981bc6c",
   "metadata": {},
   "outputs": [],
   "source": [
    "# Drop non-starter rows\n",
    "data = data[data['position'].notna()]"
   ]
  },
  {
   "cell_type": "markdown",
   "id": "0aa0af33",
   "metadata": {},
   "source": [
    "# Feature Engineering"
   ]
  },
  {
   "cell_type": "markdown",
   "id": "b7e37387",
   "metadata": {},
   "source": [
    "## Player Rolling"
   ]
  },
  {
   "cell_type": "code",
   "execution_count": 8,
   "id": "21e00182",
   "metadata": {},
   "outputs": [],
   "source": [
    "def player_rolling(stat, num_games):\n",
    "    data[f\"{stat}_rolling\"] = (\n",
    "        data.groupby('playerSlug')[stat]\n",
    "            .transform(lambda x: x.shift().rolling(window=num_games).mean())\n",
    "    )"
   ]
  },
  {
   "cell_type": "code",
   "execution_count": 9,
   "id": "601d42a1",
   "metadata": {},
   "outputs": [],
   "source": [
    "player_stats = [\n",
    "    'seconds',\n",
    "    'fieldGoalsMade',\n",
    "    'fieldGoalsAttempted',\n",
    "    'fieldGoalsPercentage',\n",
    "    'threePointersMade',\n",
    "    'threePointersAttempted',\n",
    "    'threePointersPercentage',\n",
    "    'freeThrowsMade',\n",
    "    'freeThrowsAttempted',\n",
    "    'freeThrowsPercentage',\n",
    "    'reboundsOffensive',\n",
    "    'reboundsDefensive',\n",
    "    'reboundsTotal',\n",
    "    'assists',\n",
    "    'steals',\n",
    "    'blocks',\n",
    "    'turnovers',\n",
    "    'foulsPersonal',\n",
    "    'points',\n",
    "    'plusMinusPoints',\n",
    "    'estimatedOffensiveRating',\n",
    "    'offensiveRating',\n",
    "    'estimatedDefensiveRating',\n",
    "    'defensiveRating',\n",
    "    'estimatedNetRating',\n",
    "    'netRating',\n",
    "    'assistPercentage',\n",
    "    'assistToTurnover',\n",
    "    'assistRatio',\n",
    "    'offensiveReboundPercentage',\n",
    "    'defensiveReboundPercentage',\n",
    "    'reboundPercentage',\n",
    "    'turnoverRatio',\n",
    "    'effectiveFieldGoalPercentage',\n",
    "    'trueShootingPercentage',\n",
    "    'usagePercentage',\n",
    "    'estimatedUsagePercentage',\n",
    "    'estimatedPace',\n",
    "    'pace',\n",
    "    'pacePer40',\n",
    "    'possessions',\n",
    "    'PIE'\n",
    "]"
   ]
  },
  {
   "cell_type": "code",
   "execution_count": 10,
   "id": "c005f68a",
   "metadata": {},
   "outputs": [],
   "source": [
    "for player_stat in player_stats:\n",
    "    player_rolling(player_stat, rolling_window)"
   ]
  },
  {
   "cell_type": "markdown",
   "id": "b1fbf197",
   "metadata": {},
   "source": [
    "## Opponent Team Rolling"
   ]
  },
  {
   "cell_type": "code",
   "execution_count": 11,
   "id": "c5eddad9",
   "metadata": {},
   "outputs": [],
   "source": [
    "def opp_team_rolling(stat, num_games):\n",
    "    # Isolate each game for each team\n",
    "    games = data.drop_duplicates(subset=['gameId', 'teamId'])\n",
    "    games = games[['gameId', 'teamId', stat]]\n",
    "\n",
    "    # Calculate rolling stats\n",
    "    games[f\"{stat}_rolling\"] = (\n",
    "        games.groupby('teamId')[stat]\n",
    "            .transform(lambda x: x.shift().rolling(window=num_games).mean())\n",
    "    )\n",
    "\n",
    "    # Merge based on opp_teamId\n",
    "    merged_df = pd.merge(\n",
    "        data,\n",
    "        games,\n",
    "        left_on=['gameId', 'opp_teamId'],\n",
    "        right_on=['gameId', 'teamId'],\n",
    "        how='left'\n",
    "    )\n",
    "\n",
    "    # Rename and drop columns\n",
    "    merged_df = merged_df.drop(columns=['teamId_y', f\"{stat}_y\"])\n",
    "    stat_base = stat.replace('team_', '', 1)\n",
    "    merged_df = merged_df.rename(columns={\n",
    "        'teamId_x': 'teamId',\n",
    "        f\"{stat}_x\": f\"{stat}\",\n",
    "        f\"{stat}_rolling\": f\"opp_{stat_base}_rolling\"\n",
    "    })\n",
    "\n",
    "    return merged_df"
   ]
  },
  {
   "cell_type": "code",
   "execution_count": 12,
   "id": "2ba17d52",
   "metadata": {},
   "outputs": [],
   "source": [
    "opp_stats = [\n",
    "    'team_fieldGoalsMade',\n",
    "    'team_fieldGoalsAttempted',\n",
    "    'team_fieldGoalsPercentage',\n",
    "    'team_threePointersMade',\n",
    "    'team_threePointersAttempted',\n",
    "    'team_threePointersPercentage',\n",
    "    'team_freeThrowsMade',\n",
    "    'team_freeThrowsAttempted',\n",
    "    'team_freeThrowsPercentage',\n",
    "    'team_reboundsOffensive',\n",
    "    'team_reboundsDefensive',\n",
    "    'team_reboundsTotal',\n",
    "    'team_assists',\n",
    "    'team_steals',\n",
    "    'team_blocks',\n",
    "    'team_turnovers',\n",
    "    'team_foulsPersonal',\n",
    "    'team_points',\n",
    "    'team_plusMinusPoints',\n",
    "    'team_estimatedOffensiveRating',\n",
    "    'team_offensiveRating',\n",
    "    'team_estimatedDefensiveRating',\n",
    "    'team_defensiveRating',\n",
    "    'team_estimatedNetRating',\n",
    "    'team_netRating',\n",
    "    'team_assistPercentage',\n",
    "    'team_assistToTurnover',\n",
    "    'team_assistRatio',\n",
    "    'team_offensiveReboundPercentage',\n",
    "    'team_defensiveReboundPercentage',\n",
    "    'team_reboundPercentage',\n",
    "    'team_estimatedTeamTurnoverPercentage',\n",
    "    'team_turnoverRatio',\n",
    "    'team_effectiveFieldGoalPercentage',\n",
    "    'team_trueShootingPercentage',\n",
    "    'team_usagePercentage',\n",
    "    'team_estimatedUsagePercentage',\n",
    "    'team_estimatedPace',\n",
    "    'team_pace',\n",
    "    'team_pacePer40',\n",
    "    'team_possessions',\n",
    "    'team_PIE',\n",
    "]"
   ]
  },
  {
   "cell_type": "code",
   "execution_count": 13,
   "id": "ccadb95b",
   "metadata": {},
   "outputs": [],
   "source": [
    "for opp_stat in opp_stats:\n",
    "    data = opp_team_rolling(opp_stat, rolling_window)"
   ]
  },
  {
   "cell_type": "markdown",
   "id": "85669a52",
   "metadata": {},
   "source": [
    "## Player Performance Against Opponent"
   ]
  },
  {
   "cell_type": "code",
   "execution_count": 14,
   "id": "e9a140fd",
   "metadata": {},
   "outputs": [],
   "source": [
    "def player_vs_opponent_rolling(stat, num_games):\n",
    "    data[f\"{stat}_player_vs_opp_rolling\"] = (\n",
    "        data\n",
    "        .groupby(['playerSlug', 'opp_teamId'])[stat]\n",
    "        .rolling(window=num_games)\n",
    "        .mean()\n",
    "        .groupby(level=[0, 1]).shift(1) # Shifts so that current game isn't included\n",
    "        .reset_index(level=[0,1], drop=True)\n",
    "    )"
   ]
  },
  {
   "cell_type": "code",
   "execution_count": 15,
   "id": "66b997b4",
   "metadata": {},
   "outputs": [],
   "source": [
    "player_vs_opp_stats = [\n",
    "    'seconds',\n",
    "    'fieldGoalsMade',\n",
    "    'fieldGoalsAttempted',\n",
    "    'fieldGoalsPercentage',\n",
    "    'threePointersMade',\n",
    "    'threePointersAttempted',\n",
    "    'threePointersPercentage',\n",
    "    'freeThrowsMade',\n",
    "    'freeThrowsAttempted',\n",
    "    'freeThrowsPercentage',\n",
    "    'reboundsOffensive',\n",
    "    'reboundsDefensive',\n",
    "    'reboundsTotal',\n",
    "    'assists',\n",
    "    'steals',\n",
    "    'blocks',\n",
    "    'turnovers',\n",
    "    'foulsPersonal',\n",
    "    'points',\n",
    "    'plusMinusPoints',\n",
    "    'estimatedOffensiveRating',\n",
    "    'offensiveRating',\n",
    "    'estimatedDefensiveRating',\n",
    "    'defensiveRating',\n",
    "    'estimatedNetRating',\n",
    "    'netRating',\n",
    "    'assistPercentage',\n",
    "    'assistToTurnover',\n",
    "    'assistRatio',\n",
    "    'offensiveReboundPercentage',\n",
    "    'defensiveReboundPercentage',\n",
    "    'reboundPercentage',\n",
    "    'turnoverRatio',\n",
    "    'effectiveFieldGoalPercentage',\n",
    "    'trueShootingPercentage',\n",
    "    'usagePercentage',\n",
    "    'estimatedUsagePercentage',\n",
    "    'estimatedPace',\n",
    "    'pace',\n",
    "    'pacePer40',\n",
    "    'possessions',\n",
    "    'PIE'\n",
    "]"
   ]
  },
  {
   "cell_type": "code",
   "execution_count": 16,
   "id": "5d79d934",
   "metadata": {},
   "outputs": [],
   "source": [
    "for player_vs_opp_stat in player_vs_opp_stats:\n",
    "    player_vs_opponent_rolling(player_vs_opp_stat, rolling_window)"
   ]
  },
  {
   "cell_type": "markdown",
   "id": "1f181b24",
   "metadata": {},
   "source": [
    "## Rest Days"
   ]
  },
  {
   "cell_type": "code",
   "execution_count": 17,
   "id": "d4659def",
   "metadata": {},
   "outputs": [],
   "source": [
    "data['prevGameDate'] = data.groupby('playerSlug')['gameDate'].shift(1)\n",
    "data['restDays'] = (data['gameDate'] - data['prevGameDate']).dt.days\n",
    "data.drop(columns='prevGameDate', inplace=True)"
   ]
  },
  {
   "cell_type": "markdown",
   "id": "ccca9dc4",
   "metadata": {},
   "source": [
    "## Player One-Hot Encoding"
   ]
  },
  {
   "cell_type": "code",
   "execution_count": 18,
   "id": "466ec855",
   "metadata": {},
   "outputs": [],
   "source": [
    "player_dummies = pd.get_dummies(data['playerSlug'], prefix='player')\n",
    "data = pd.concat([data, player_dummies], axis=1)"
   ]
  },
  {
   "cell_type": "markdown",
   "id": "355fdfc5",
   "metadata": {},
   "source": [
    "# Model"
   ]
  },
  {
   "cell_type": "code",
   "execution_count": null,
   "id": "9726d8dd",
   "metadata": {},
   "outputs": [],
   "source": [
    "# Select feature to predict\n",
    "target = \"points\"\n",
    "\n",
    "# Get accurate names for rolling stats\n",
    "opp_stats = [stat.replace(\"team_\", \"opp_\") for stat in opp_stats]\n",
    "player_vs_opp_stats = [f\"{player_vs_opp_stat}_player_vs_opp\" for player_vs_opp_stat in player_vs_opp_stats]\n",
    "\n",
    "# Combine all rolling stats\n",
    "combined = player_stats + opp_stats + player_vs_opp_stats\n",
    "\n",
    "# Combine all features\n",
    "features = [f\"{feature}_rolling\" for feature in combined] + ['restDays', 'home'] + list(player_dummies.columns)\n",
    "\n",
    "# Drop rows with missing data\n",
    "data = data.dropna(subset=features + [target])"
   ]
  },
  {
   "cell_type": "code",
   "execution_count": null,
   "id": "99e2ab64",
   "metadata": {},
   "outputs": [
    {
     "name": "stdout",
     "output_type": "stream",
     "text": [
      "Test RMSE: 7.23\n",
      "Test MAE: 5.66\n",
      "\n",
      "3-game Average Baseline RMSE: 7.93\n",
      "3-game Average Baseline MAE: 6.19\n",
      "\n",
      "RMSE Improvement over baseline: 0.70\n",
      "MAE Improvement over baseline: 0.53\n"
     ]
    },
    {
     "data": {
      "image/png": "[encoded data removed]",
      "text/plain": [
       "<Figure size 640x480 with 1 Axes>"
      ]
     },
     "metadata": {},
     "output_type": "display_data"
    }
   ],
   "source": [
    "# Split into features (X) and target (y)\n",
    "X = data[features]\n",
    "y = data[target]\n",
    "\n",
    "# Split train/test by time order to avoid data leakage\n",
    "X_train, X_test, y_train, y_test = train_test_split(X, y, shuffle=False)\n",
    "\n",
    "# Train the XGBoost Regressor\n",
    "model = XGBRegressor(\n",
    "    n_estimators=100,\n",
    "    learning_rate=0.1,\n",
    "    max_depth=4,\n",
    "    subsample=0.8,\n",
    "    colsample_bytree=0.8,\n",
    "    random_state=42\n",
    ")\n",
    "\n",
    "model.fit(X_train, y_train)\n",
    "\n",
    "# Predict and evaluate\n",
    "y_pred = model.predict(X_test)\n",
    "mse = mean_squared_error(y_test, y_pred)\n",
    "rmse = np.sqrt(mse)\n",
    "mae = mean_absolute_error(y_test, y_pred)\n",
    "print(f\"Test RMSE: {rmse:.2f}\")\n",
    "print(f\"Test MAE: {mae:.2f}\")\n",
    "\n",
    "# Evaluate baseline (rolling average)\n",
    "y_baseline_pred = X_test[f\"{target}_rolling\"]\n",
    "baseline_mse = mean_squared_error(y_test, y_baseline_pred)\n",
    "baseline_rmse = np.sqrt(baseline_mse)\n",
    "baseline_mae = mean_absolute_error(y_test, y_baseline_pred)\n",
    "print(f\"\\n{rolling_window}-game Average Baseline RMSE: {baseline_rmse:.2f}\")\n",
    "print(f\"{rolling_window}-game Average Baseline MAE: {baseline_mae:.2f}\")\n",
    "\n",
    "# Improvement\n",
    "rmse_improvement = baseline_rmse - rmse\n",
    "mae_improvement = baseline_mae - mae\n",
    "print(f\"\\nRMSE Improvement over baseline: {rmse_improvement:.2f}\")\n",
    "print(f\"MAE Improvement over baseline: {mae_improvement:.2f}\")\n",
    "\n",
    "# Plot Feature Importance\n",
    "plot_importance(model, max_num_features=10)\n",
    "plt.title(\"Top 10 Feature Importances\")\n",
    "plt.show()"
   ]
  },
  {
   "cell_type": "markdown",
   "id": "25a0fa64",
   "metadata": {},
   "source": [
    "# Parameter Tuning"
   ]
  },
  {
   "cell_type": "code",
   "execution_count": 20,
   "id": "44af21b9",
   "metadata": {},
   "outputs": [
    {
     "name": "stdout",
     "output_type": "stream",
     "text": [
      "Fitting 5 folds for each of 50 candidates, totalling 250 fits\n"
     ]
    },
    {
     "name": "stderr",
     "output_type": "stream",
     "text": [
      "Exception ignored on calling ctypes callback function: <bound method DataIter._next_wrapper of <xgboost.data.SingleBatchInternalIter object at 0x168c64c70>>\n",
      "Traceback (most recent call last):\n",
      "  File \"/opt/anaconda3/envs/cs190a/lib/python3.10/site-packages/xgboost/core.py\", line 640, in _next_wrapper\n",
      "Exception ignored on calling ctypes callback function: <bound method DataIter._next_wrapper of <xgboost.data.SingleBatchInternalIter object at 0x11eb44c70>>\n",
      "Traceback (most recent call last):\n",
      "  File \"/opt/anaconda3/envs/cs190a/lib/python3.10/site-packages/xgboost/core.py\", line 640, in _next_wrapper\n",
      "Exception ignored on calling ctypes callback function: <bound method DataIter._next_wrapper of <xgboost.data.SingleBatchInternalIter object at 0x110cd4c70>>\n",
      "Traceback (most recent call last):\n",
      "  File \"/opt/anaconda3/envs/cs190a/lib/python3.10/site-packages/xgboost/core.py\", line 640, in _next_wrapper\n",
      "    return self._handle_exception(lambda: int(self.next(input_data)), 0)\n",
      "  File \"/opt/anaconda3/envs/cs190a/lib/python3.10/site-packages/xgboost/core.py\", line 553, in _handle_exception\n",
      "    return self._handle_exception(lambda: int(self.next(input_data)), 0)\n",
      "  File \"/opt/anaconda3/envs/cs190a/lib/python3.10/site-packages/xgboost/core.py\", line 553, in _handle_exception\n",
      "    return fn()\n",
      "  File \"/opt/anaconda3/envs/cs190a/lib/python3.10/site-packages/xgboost/core.py\", line 640, in <lambda>\n",
      "    return fn()\n",
      "  File \"/opt/anaconda3/envs/cs190a/lib/python3.10/site-packages/xgboost/core.py\", line 640, in <lambda>\n",
      "    return self._handle_exception(lambda: int(self.next(input_data)), 0)\n",
      "  File \"/opt/anaconda3/envs/cs190a/lib/python3.10/site-packages/xgboost/data.py\", line 1654, in next\n",
      "    return self._handle_exception(lambda: int(self.next(input_data)), 0)\n",
      "  File \"/opt/anaconda3/envs/cs190a/lib/python3.10/site-packages/xgboost/data.py\", line 1654, in next\n",
      "    return self._handle_exception(lambda: int(self.next(input_data)), 0)\n",
      "  File \"/opt/anaconda3/envs/cs190a/lib/python3.10/site-packages/xgboost/core.py\", line 553, in _handle_exception\n",
      "    return fn()\n",
      "  File \"/opt/anaconda3/envs/cs190a/lib/python3.10/site-packages/xgboost/core.py\", line 640, in <lambda>\n",
      "    return self._handle_exception(lambda: int(self.next(input_data)), 0)\n",
      "  File \"/opt/anaconda3/envs/cs190a/lib/python3.10/site-packages/xgboost/data.py\", line 1654, in next\n",
      "    input_data(**self.kwargs)\n",
      "    input_data(**self.kwargs)  File \"/opt/anaconda3/envs/cs190a/lib/python3.10/site-packages/xgboost/core.py\", line 729, in inner_f\n",
      "\n",
      "  File \"/opt/anaconda3/envs/cs190a/lib/python3.10/site-packages/xgboost/core.py\", line 729, in inner_f\n",
      "    return func(**kwargs)\n",
      "  File \"/opt/anaconda3/envs/cs190a/lib/python3.10/site-packages/xgboost/core.py\", line 629, in input_data\n",
      "    self.proxy.set_info(\n",
      "  File \"/opt/anaconda3/envs/cs190a/lib/python3.10/site-packages/xgboost/core.py\", line 729, in inner_f\n",
      "    return func(**kwargs)\n",
      "  File \"/opt/anaconda3/envs/cs190a/lib/python3.10/site-packages/xgboost/core.py\", line 620, in input_data\n",
      "    return func(**kwargs)\n",
      "  File \"/opt/anaconda3/envs/cs190a/lib/python3.10/site-packages/xgboost/core.py\", line 975, in set_info\n",
      "    new, cat_codes, feature_names, feature_types = _proxy_transform(\n",
      "  File \"/opt/anaconda3/envs/cs190a/lib/python3.10/site-packages/xgboost/data.py\", line 1707, in _proxy_transform\n",
      "    input_data(**self.kwargs)\n",
      "  File \"/opt/anaconda3/envs/cs190a/lib/python3.10/site-packages/xgboost/core.py\", line 729, in inner_f\n",
      "    self.feature_names = feature_names\n",
      "  File \"/opt/anaconda3/envs/cs190a/lib/python3.10/site-packages/xgboost/core.py\", line 1369, in feature_names\n",
      "    df, feature_names, feature_types = _transform_pandas_df(\n",
      "  File \"/opt/anaconda3/envs/cs190a/lib/python3.10/site-packages/xgboost/data.py\", line 644, in _transform_pandas_df\n",
      "    return func(**kwargs)\n",
      "  File \"/opt/anaconda3/envs/cs190a/lib/python3.10/site-packages/xgboost/core.py\", line 620, in input_data\n",
      "    arrays = pandas_transform_data(data)\n",
      "  File \"/opt/anaconda3/envs/cs190a/lib/python3.10/site-packages/xgboost/data.py\", line 604, in pandas_transform_data\n",
      "    c_feature_names = (ctypes.c_char_p * len(feature_names_bytes))(\n",
      "KeyboardInterrupt: \n",
      "    new, cat_codes, feature_names, feature_types = _proxy_transform(\n",
      "  File \"/opt/anaconda3/envs/cs190a/lib/python3.10/site-packages/xgboost/data.py\", line 1707, in _proxy_transform\n",
      "    result.append(oth_type(data[col]))\n",
      "  File \"/opt/anaconda3/envs/cs190a/lib/python3.10/site-packages/xgboost/data.py\", line 583, in oth_type\n",
      "    array = ser.to_numpy(dtype=np.float32, na_value=np.nan)\n",
      "  File \"/opt/anaconda3/envs/cs190a/lib/python3.10/site-packages/pandas/core/base.py\", line 660, in to_numpy\n",
      "    df, feature_names, feature_types = _transform_pandas_df(\n",
      "  File \"/opt/anaconda3/envs/cs190a/lib/python3.10/site-packages/xgboost/data.py\", line 644, in _transform_pandas_df\n",
      "    arrays = pandas_transform_data(data)\n",
      "  File \"/opt/anaconda3/envs/cs190a/lib/python3.10/site-packages/xgboost/data.py\", line 604, in pandas_transform_data\n",
      "    result.append(oth_type(data[col]))\n",
      "  File \"/opt/anaconda3/envs/cs190a/lib/python3.10/site-packages/xgboost/data.py\", line 583, in oth_type\n",
      "    array = ser.to_numpy(dtype=np.float32, na_value=np.nan)\n",
      "  File \"/opt/anaconda3/envs/cs190a/lib/python3.10/site-packages/pandas/core/base.py\", line 660, in to_numpy\n",
      "    values[np.asanyarray(isna(self))] = na_value\n",
      "  File \"/opt/anaconda3/envs/cs190a/lib/python3.10/site-packages/pandas/core/dtypes/missing.py\", line 178, in isna\n",
      "    values[np.asanyarray(isna(self))] = na_value\n",
      "  File \"/opt/anaconda3/envs/cs190a/lib/python3.10/site-packages/pandas/core/dtypes/missing.py\", line 178, in isna\n",
      "    return _isna(obj)\n",
      "  File \"/opt/anaconda3/envs/cs190a/lib/python3.10/site-packages/pandas/core/dtypes/missing.py\", line 218, in _isna\n",
      "    result = obj._constructor(result, index=obj.index, name=obj.name, copy=False)\n",
      "  File \"/opt/anaconda3/envs/cs190a/lib/python3.10/site-packages/pandas/core/series.py\", line 487, in __init__\n",
      "    return _isna(obj)\n",
      "  File \"/opt/anaconda3/envs/cs190a/lib/python3.10/site-packages/pandas/core/dtypes/missing.py\", line 218, in _isna\n",
      "    result = obj._constructor(result, index=obj.index, name=obj.name, copy=False)\n",
      "  File \"/opt/anaconda3/envs/cs190a/lib/python3.10/site-packages/pandas/core/series.py\", line 586, in __init__\n",
      "    name = ibase.maybe_extract_name(name, data, type(self))\n",
      "KeyboardInterrupt: \n",
      "    manager = _get_option(\"mode.data_manager\", silent=True)\n",
      "  File \"/opt/anaconda3/envs/cs190a/lib/python3.10/site-packages/pandas/_config/config.py\", line 149, in _get_option\n",
      "    root, k = _get_root(key)\n",
      "  File \"/opt/anaconda3/envs/cs190a/lib/python3.10/site-packages/pandas/_config/config.py\", line 636, in _get_root\n",
      "    path = key.split(\".\")\n",
      "KeyboardInterrupt: \n",
      "Exception ignored on calling ctypes callback function: <bound method DataIter._next_wrapper of <xgboost.data.SingleBatchInternalIter object at 0x11d018c70>>\n",
      "Traceback (most recent call last):\n",
      "  File \"/opt/anaconda3/envs/cs190a/lib/python3.10/site-packages/xgboost/core.py\", line 585, in _next_wrapper\n",
      "    def _next_wrapper(self, this: None) -> int:  # pylint: disable=unused-argument\n",
      "KeyboardInterrupt: \n"
     ]
    },
    {
     "ename": "KeyboardInterrupt",
     "evalue": "",
     "output_type": "error",
     "traceback": [
      "\u001b[0;31m---------------------------------------------------------------------------\u001b[0m",
      "\u001b[0;31mKeyboardInterrupt\u001b[0m                         Traceback (most recent call last)",
      "Cell \u001b[0;32mIn[20], line 21\u001b[0m\n\u001b[1;32m     10\u001b[0m tscv \u001b[38;5;241m=\u001b[39m TimeSeriesSplit(n_splits\u001b[38;5;241m=\u001b[39m\u001b[38;5;241m5\u001b[39m)\n\u001b[1;32m     11\u001b[0m random_search \u001b[38;5;241m=\u001b[39m RandomizedSearchCV(\n\u001b[1;32m     12\u001b[0m     estimator\u001b[38;5;241m=\u001b[39mxgb,\n\u001b[1;32m     13\u001b[0m     param_distributions\u001b[38;5;241m=\u001b[39mparam_dist,\n\u001b[0;32m   (...)\u001b[0m\n\u001b[1;32m     18\u001b[0m     n_jobs\u001b[38;5;241m=\u001b[39m\u001b[38;5;241m-\u001b[39m\u001b[38;5;241m1\u001b[39m\n\u001b[1;32m     19\u001b[0m )\n\u001b[0;32m---> 21\u001b[0m \u001b[43mrandom_search\u001b[49m\u001b[38;5;241;43m.\u001b[39;49m\u001b[43mfit\u001b[49m\u001b[43m(\u001b[49m\u001b[43mX_train\u001b[49m\u001b[43m,\u001b[49m\u001b[43m \u001b[49m\u001b[43my_train\u001b[49m\u001b[43m)\u001b[49m\n\u001b[1;32m     23\u001b[0m \u001b[38;5;28mprint\u001b[39m(\u001b[38;5;124m\"\u001b[39m\u001b[38;5;124mBest Parameters:\u001b[39m\u001b[38;5;124m\"\u001b[39m, random_search\u001b[38;5;241m.\u001b[39mbest_params_)\n",
      "File \u001b[0;32m/opt/anaconda3/envs/cs190a/lib/python3.10/site-packages/sklearn/base.py:1389\u001b[0m, in \u001b[0;36m_fit_context.<locals>.decorator.<locals>.wrapper\u001b[0;34m(estimator, *args, **kwargs)\u001b[0m\n\u001b[1;32m   1382\u001b[0m     estimator\u001b[38;5;241m.\u001b[39m_validate_params()\n\u001b[1;32m   1384\u001b[0m \u001b[38;5;28;01mwith\u001b[39;00m config_context(\n\u001b[1;32m   1385\u001b[0m     skip_parameter_validation\u001b[38;5;241m=\u001b[39m(\n\u001b[1;32m   1386\u001b[0m         prefer_skip_nested_validation \u001b[38;5;129;01mor\u001b[39;00m global_skip_validation\n\u001b[1;32m   1387\u001b[0m     )\n\u001b[1;32m   1388\u001b[0m ):\n\u001b[0;32m-> 1389\u001b[0m     \u001b[38;5;28;01mreturn\u001b[39;00m \u001b[43mfit_method\u001b[49m\u001b[43m(\u001b[49m\u001b[43mestimator\u001b[49m\u001b[43m,\u001b[49m\u001b[43m \u001b[49m\u001b[38;5;241;43m*\u001b[39;49m\u001b[43margs\u001b[49m\u001b[43m,\u001b[49m\u001b[43m \u001b[49m\u001b[38;5;241;43m*\u001b[39;49m\u001b[38;5;241;43m*\u001b[39;49m\u001b[43mkwargs\u001b[49m\u001b[43m)\u001b[49m\n",
      "File \u001b[0;32m/opt/anaconda3/envs/cs190a/lib/python3.10/site-packages/sklearn/model_selection/_search.py:1024\u001b[0m, in \u001b[0;36mBaseSearchCV.fit\u001b[0;34m(self, X, y, **params)\u001b[0m\n\u001b[1;32m   1018\u001b[0m     results \u001b[38;5;241m=\u001b[39m \u001b[38;5;28mself\u001b[39m\u001b[38;5;241m.\u001b[39m_format_results(\n\u001b[1;32m   1019\u001b[0m         all_candidate_params, n_splits, all_out, all_more_results\n\u001b[1;32m   1020\u001b[0m     )\n\u001b[1;32m   1022\u001b[0m     \u001b[38;5;28;01mreturn\u001b[39;00m results\n\u001b[0;32m-> 1024\u001b[0m \u001b[38;5;28;43mself\u001b[39;49m\u001b[38;5;241;43m.\u001b[39;49m\u001b[43m_run_search\u001b[49m\u001b[43m(\u001b[49m\u001b[43mevaluate_candidates\u001b[49m\u001b[43m)\u001b[49m\n\u001b[1;32m   1026\u001b[0m \u001b[38;5;66;03m# multimetric is determined here because in the case of a callable\u001b[39;00m\n\u001b[1;32m   1027\u001b[0m \u001b[38;5;66;03m# self.scoring the return type is only known after calling\u001b[39;00m\n\u001b[1;32m   1028\u001b[0m first_test_score \u001b[38;5;241m=\u001b[39m all_out[\u001b[38;5;241m0\u001b[39m][\u001b[38;5;124m\"\u001b[39m\u001b[38;5;124mtest_scores\u001b[39m\u001b[38;5;124m\"\u001b[39m]\n",
      "File \u001b[0;32m/opt/anaconda3/envs/cs190a/lib/python3.10/site-packages/sklearn/model_selection/_search.py:1951\u001b[0m, in \u001b[0;36mRandomizedSearchCV._run_search\u001b[0;34m(self, evaluate_candidates)\u001b[0m\n\u001b[1;32m   1949\u001b[0m \u001b[38;5;28;01mdef\u001b[39;00m\u001b[38;5;250m \u001b[39m\u001b[38;5;21m_run_search\u001b[39m(\u001b[38;5;28mself\u001b[39m, evaluate_candidates):\n\u001b[1;32m   1950\u001b[0m \u001b[38;5;250m    \u001b[39m\u001b[38;5;124;03m\"\"\"Search n_iter candidates from param_distributions\"\"\"\u001b[39;00m\n\u001b[0;32m-> 1951\u001b[0m     \u001b[43mevaluate_candidates\u001b[49m\u001b[43m(\u001b[49m\n\u001b[1;32m   1952\u001b[0m \u001b[43m        \u001b[49m\u001b[43mParameterSampler\u001b[49m\u001b[43m(\u001b[49m\n\u001b[1;32m   1953\u001b[0m \u001b[43m            \u001b[49m\u001b[38;5;28;43mself\u001b[39;49m\u001b[38;5;241;43m.\u001b[39;49m\u001b[43mparam_distributions\u001b[49m\u001b[43m,\u001b[49m\u001b[43m \u001b[49m\u001b[38;5;28;43mself\u001b[39;49m\u001b[38;5;241;43m.\u001b[39;49m\u001b[43mn_iter\u001b[49m\u001b[43m,\u001b[49m\u001b[43m \u001b[49m\u001b[43mrandom_state\u001b[49m\u001b[38;5;241;43m=\u001b[39;49m\u001b[38;5;28;43mself\u001b[39;49m\u001b[38;5;241;43m.\u001b[39;49m\u001b[43mrandom_state\u001b[49m\n\u001b[1;32m   1954\u001b[0m \u001b[43m        \u001b[49m\u001b[43m)\u001b[49m\n\u001b[1;32m   1955\u001b[0m \u001b[43m    \u001b[49m\u001b[43m)\u001b[49m\n",
      "File \u001b[0;32m/opt/anaconda3/envs/cs190a/lib/python3.10/site-packages/sklearn/model_selection/_search.py:970\u001b[0m, in \u001b[0;36mBaseSearchCV.fit.<locals>.evaluate_candidates\u001b[0;34m(candidate_params, cv, more_results)\u001b[0m\n\u001b[1;32m    962\u001b[0m \u001b[38;5;28;01mif\u001b[39;00m \u001b[38;5;28mself\u001b[39m\u001b[38;5;241m.\u001b[39mverbose \u001b[38;5;241m>\u001b[39m \u001b[38;5;241m0\u001b[39m:\n\u001b[1;32m    963\u001b[0m     \u001b[38;5;28mprint\u001b[39m(\n\u001b[1;32m    964\u001b[0m         \u001b[38;5;124m\"\u001b[39m\u001b[38;5;124mFitting \u001b[39m\u001b[38;5;132;01m{0}\u001b[39;00m\u001b[38;5;124m folds for each of \u001b[39m\u001b[38;5;132;01m{1}\u001b[39;00m\u001b[38;5;124m candidates,\u001b[39m\u001b[38;5;124m\"\u001b[39m\n\u001b[1;32m    965\u001b[0m         \u001b[38;5;124m\"\u001b[39m\u001b[38;5;124m totalling \u001b[39m\u001b[38;5;132;01m{2}\u001b[39;00m\u001b[38;5;124m fits\u001b[39m\u001b[38;5;124m\"\u001b[39m\u001b[38;5;241m.\u001b[39mformat(\n\u001b[1;32m    966\u001b[0m             n_splits, n_candidates, n_candidates \u001b[38;5;241m*\u001b[39m n_splits\n\u001b[1;32m    967\u001b[0m         )\n\u001b[1;32m    968\u001b[0m     )\n\u001b[0;32m--> 970\u001b[0m out \u001b[38;5;241m=\u001b[39m \u001b[43mparallel\u001b[49m\u001b[43m(\u001b[49m\n\u001b[1;32m    971\u001b[0m \u001b[43m    \u001b[49m\u001b[43mdelayed\u001b[49m\u001b[43m(\u001b[49m\u001b[43m_fit_and_score\u001b[49m\u001b[43m)\u001b[49m\u001b[43m(\u001b[49m\n\u001b[1;32m    972\u001b[0m \u001b[43m        \u001b[49m\u001b[43mclone\u001b[49m\u001b[43m(\u001b[49m\u001b[43mbase_estimator\u001b[49m\u001b[43m)\u001b[49m\u001b[43m,\u001b[49m\n\u001b[1;32m    973\u001b[0m \u001b[43m        \u001b[49m\u001b[43mX\u001b[49m\u001b[43m,\u001b[49m\n\u001b[1;32m    974\u001b[0m \u001b[43m        \u001b[49m\u001b[43my\u001b[49m\u001b[43m,\u001b[49m\n\u001b[1;32m    975\u001b[0m \u001b[43m        \u001b[49m\u001b[43mtrain\u001b[49m\u001b[38;5;241;43m=\u001b[39;49m\u001b[43mtrain\u001b[49m\u001b[43m,\u001b[49m\n\u001b[1;32m    976\u001b[0m \u001b[43m        \u001b[49m\u001b[43mtest\u001b[49m\u001b[38;5;241;43m=\u001b[39;49m\u001b[43mtest\u001b[49m\u001b[43m,\u001b[49m\n\u001b[1;32m    977\u001b[0m \u001b[43m        \u001b[49m\u001b[43mparameters\u001b[49m\u001b[38;5;241;43m=\u001b[39;49m\u001b[43mparameters\u001b[49m\u001b[43m,\u001b[49m\n\u001b[1;32m    978\u001b[0m \u001b[43m        \u001b[49m\u001b[43msplit_progress\u001b[49m\u001b[38;5;241;43m=\u001b[39;49m\u001b[43m(\u001b[49m\u001b[43msplit_idx\u001b[49m\u001b[43m,\u001b[49m\u001b[43m \u001b[49m\u001b[43mn_splits\u001b[49m\u001b[43m)\u001b[49m\u001b[43m,\u001b[49m\n\u001b[1;32m    979\u001b[0m \u001b[43m        \u001b[49m\u001b[43mcandidate_progress\u001b[49m\u001b[38;5;241;43m=\u001b[39;49m\u001b[43m(\u001b[49m\u001b[43mcand_idx\u001b[49m\u001b[43m,\u001b[49m\u001b[43m \u001b[49m\u001b[43mn_candidates\u001b[49m\u001b[43m)\u001b[49m\u001b[43m,\u001b[49m\n\u001b[1;32m    980\u001b[0m \u001b[43m        \u001b[49m\u001b[38;5;241;43m*\u001b[39;49m\u001b[38;5;241;43m*\u001b[39;49m\u001b[43mfit_and_score_kwargs\u001b[49m\u001b[43m,\u001b[49m\n\u001b[1;32m    981\u001b[0m \u001b[43m    \u001b[49m\u001b[43m)\u001b[49m\n\u001b[1;32m    982\u001b[0m \u001b[43m    \u001b[49m\u001b[38;5;28;43;01mfor\u001b[39;49;00m\u001b[43m \u001b[49m\u001b[43m(\u001b[49m\u001b[43mcand_idx\u001b[49m\u001b[43m,\u001b[49m\u001b[43m \u001b[49m\u001b[43mparameters\u001b[49m\u001b[43m)\u001b[49m\u001b[43m,\u001b[49m\u001b[43m \u001b[49m\u001b[43m(\u001b[49m\u001b[43msplit_idx\u001b[49m\u001b[43m,\u001b[49m\u001b[43m \u001b[49m\u001b[43m(\u001b[49m\u001b[43mtrain\u001b[49m\u001b[43m,\u001b[49m\u001b[43m \u001b[49m\u001b[43mtest\u001b[49m\u001b[43m)\u001b[49m\u001b[43m)\u001b[49m\u001b[43m \u001b[49m\u001b[38;5;129;43;01min\u001b[39;49;00m\u001b[43m \u001b[49m\u001b[43mproduct\u001b[49m\u001b[43m(\u001b[49m\n\u001b[1;32m    983\u001b[0m \u001b[43m        \u001b[49m\u001b[38;5;28;43menumerate\u001b[39;49m\u001b[43m(\u001b[49m\u001b[43mcandidate_params\u001b[49m\u001b[43m)\u001b[49m\u001b[43m,\u001b[49m\n\u001b[1;32m    984\u001b[0m \u001b[43m        \u001b[49m\u001b[38;5;28;43menumerate\u001b[39;49m\u001b[43m(\u001b[49m\u001b[43mcv\u001b[49m\u001b[38;5;241;43m.\u001b[39;49m\u001b[43msplit\u001b[49m\u001b[43m(\u001b[49m\u001b[43mX\u001b[49m\u001b[43m,\u001b[49m\u001b[43m \u001b[49m\u001b[43my\u001b[49m\u001b[43m,\u001b[49m\u001b[43m \u001b[49m\u001b[38;5;241;43m*\u001b[39;49m\u001b[38;5;241;43m*\u001b[39;49m\u001b[43mrouted_params\u001b[49m\u001b[38;5;241;43m.\u001b[39;49m\u001b[43msplitter\u001b[49m\u001b[38;5;241;43m.\u001b[39;49m\u001b[43msplit\u001b[49m\u001b[43m)\u001b[49m\u001b[43m)\u001b[49m\u001b[43m,\u001b[49m\n\u001b[1;32m    985\u001b[0m \u001b[43m    \u001b[49m\u001b[43m)\u001b[49m\n\u001b[1;32m    986\u001b[0m \u001b[43m\u001b[49m\u001b[43m)\u001b[49m\n\u001b[1;32m    988\u001b[0m \u001b[38;5;28;01mif\u001b[39;00m \u001b[38;5;28mlen\u001b[39m(out) \u001b[38;5;241m<\u001b[39m \u001b[38;5;241m1\u001b[39m:\n\u001b[1;32m    989\u001b[0m     \u001b[38;5;28;01mraise\u001b[39;00m \u001b[38;5;167;01mValueError\u001b[39;00m(\n\u001b[1;32m    990\u001b[0m         \u001b[38;5;124m\"\u001b[39m\u001b[38;5;124mNo fits were performed. \u001b[39m\u001b[38;5;124m\"\u001b[39m\n\u001b[1;32m    991\u001b[0m         \u001b[38;5;124m\"\u001b[39m\u001b[38;5;124mWas the CV iterator empty? \u001b[39m\u001b[38;5;124m\"\u001b[39m\n\u001b[1;32m    992\u001b[0m         \u001b[38;5;124m\"\u001b[39m\u001b[38;5;124mWere there no candidates?\u001b[39m\u001b[38;5;124m\"\u001b[39m\n\u001b[1;32m    993\u001b[0m     )\n",
      "File \u001b[0;32m/opt/anaconda3/envs/cs190a/lib/python3.10/site-packages/sklearn/utils/parallel.py:77\u001b[0m, in \u001b[0;36mParallel.__call__\u001b[0;34m(self, iterable)\u001b[0m\n\u001b[1;32m     72\u001b[0m config \u001b[38;5;241m=\u001b[39m get_config()\n\u001b[1;32m     73\u001b[0m iterable_with_config \u001b[38;5;241m=\u001b[39m (\n\u001b[1;32m     74\u001b[0m     (_with_config(delayed_func, config), args, kwargs)\n\u001b[1;32m     75\u001b[0m     \u001b[38;5;28;01mfor\u001b[39;00m delayed_func, args, kwargs \u001b[38;5;129;01min\u001b[39;00m iterable\n\u001b[1;32m     76\u001b[0m )\n\u001b[0;32m---> 77\u001b[0m \u001b[38;5;28;01mreturn\u001b[39;00m \u001b[38;5;28;43msuper\u001b[39;49m\u001b[43m(\u001b[49m\u001b[43m)\u001b[49m\u001b[38;5;241;43m.\u001b[39;49m\u001b[38;5;21;43m__call__\u001b[39;49m\u001b[43m(\u001b[49m\u001b[43miterable_with_config\u001b[49m\u001b[43m)\u001b[49m\n",
      "File \u001b[0;32m/opt/anaconda3/envs/cs190a/lib/python3.10/site-packages/joblib/parallel.py:2007\u001b[0m, in \u001b[0;36mParallel.__call__\u001b[0;34m(self, iterable)\u001b[0m\n\u001b[1;32m   2001\u001b[0m \u001b[38;5;66;03m# The first item from the output is blank, but it makes the interpreter\u001b[39;00m\n\u001b[1;32m   2002\u001b[0m \u001b[38;5;66;03m# progress until it enters the Try/Except block of the generator and\u001b[39;00m\n\u001b[1;32m   2003\u001b[0m \u001b[38;5;66;03m# reaches the first `yield` statement. This starts the asynchronous\u001b[39;00m\n\u001b[1;32m   2004\u001b[0m \u001b[38;5;66;03m# dispatch of the tasks to the workers.\u001b[39;00m\n\u001b[1;32m   2005\u001b[0m \u001b[38;5;28mnext\u001b[39m(output)\n\u001b[0;32m-> 2007\u001b[0m \u001b[38;5;28;01mreturn\u001b[39;00m output \u001b[38;5;28;01mif\u001b[39;00m \u001b[38;5;28mself\u001b[39m\u001b[38;5;241m.\u001b[39mreturn_generator \u001b[38;5;28;01melse\u001b[39;00m \u001b[38;5;28;43mlist\u001b[39;49m\u001b[43m(\u001b[49m\u001b[43moutput\u001b[49m\u001b[43m)\u001b[49m\n",
      "File \u001b[0;32m/opt/anaconda3/envs/cs190a/lib/python3.10/site-packages/joblib/parallel.py:1650\u001b[0m, in \u001b[0;36mParallel._get_outputs\u001b[0;34m(self, iterator, pre_dispatch)\u001b[0m\n\u001b[1;32m   1647\u001b[0m     \u001b[38;5;28;01myield\u001b[39;00m\n\u001b[1;32m   1649\u001b[0m     \u001b[38;5;28;01mwith\u001b[39;00m \u001b[38;5;28mself\u001b[39m\u001b[38;5;241m.\u001b[39m_backend\u001b[38;5;241m.\u001b[39mretrieval_context():\n\u001b[0;32m-> 1650\u001b[0m         \u001b[38;5;28;01myield from\u001b[39;00m \u001b[38;5;28mself\u001b[39m\u001b[38;5;241m.\u001b[39m_retrieve()\n\u001b[1;32m   1652\u001b[0m \u001b[38;5;28;01mexcept\u001b[39;00m \u001b[38;5;167;01mGeneratorExit\u001b[39;00m:\n\u001b[1;32m   1653\u001b[0m     \u001b[38;5;66;03m# The generator has been garbage collected before being fully\u001b[39;00m\n\u001b[1;32m   1654\u001b[0m     \u001b[38;5;66;03m# consumed. This aborts the remaining tasks if possible and warn\u001b[39;00m\n\u001b[1;32m   1655\u001b[0m     \u001b[38;5;66;03m# the user if necessary.\u001b[39;00m\n\u001b[1;32m   1656\u001b[0m     \u001b[38;5;28mself\u001b[39m\u001b[38;5;241m.\u001b[39m_exception \u001b[38;5;241m=\u001b[39m \u001b[38;5;28;01mTrue\u001b[39;00m\n",
      "File \u001b[0;32m/opt/anaconda3/envs/cs190a/lib/python3.10/site-packages/joblib/parallel.py:1762\u001b[0m, in \u001b[0;36mParallel._retrieve\u001b[0;34m(self)\u001b[0m\n\u001b[1;32m   1757\u001b[0m \u001b[38;5;66;03m# If the next job is not ready for retrieval yet, we just wait for\u001b[39;00m\n\u001b[1;32m   1758\u001b[0m \u001b[38;5;66;03m# async callbacks to progress.\u001b[39;00m\n\u001b[1;32m   1759\u001b[0m \u001b[38;5;28;01mif\u001b[39;00m ((\u001b[38;5;28mlen\u001b[39m(\u001b[38;5;28mself\u001b[39m\u001b[38;5;241m.\u001b[39m_jobs) \u001b[38;5;241m==\u001b[39m \u001b[38;5;241m0\u001b[39m) \u001b[38;5;129;01mor\u001b[39;00m\n\u001b[1;32m   1760\u001b[0m     (\u001b[38;5;28mself\u001b[39m\u001b[38;5;241m.\u001b[39m_jobs[\u001b[38;5;241m0\u001b[39m]\u001b[38;5;241m.\u001b[39mget_status(\n\u001b[1;32m   1761\u001b[0m         timeout\u001b[38;5;241m=\u001b[39m\u001b[38;5;28mself\u001b[39m\u001b[38;5;241m.\u001b[39mtimeout) \u001b[38;5;241m==\u001b[39m TASK_PENDING)):\n\u001b[0;32m-> 1762\u001b[0m     \u001b[43mtime\u001b[49m\u001b[38;5;241;43m.\u001b[39;49m\u001b[43msleep\u001b[49m\u001b[43m(\u001b[49m\u001b[38;5;241;43m0.01\u001b[39;49m\u001b[43m)\u001b[49m\n\u001b[1;32m   1763\u001b[0m     \u001b[38;5;28;01mcontinue\u001b[39;00m\n\u001b[1;32m   1765\u001b[0m \u001b[38;5;66;03m# We need to be careful: the job list can be filling up as\u001b[39;00m\n\u001b[1;32m   1766\u001b[0m \u001b[38;5;66;03m# we empty it and Python list are not thread-safe by\u001b[39;00m\n\u001b[1;32m   1767\u001b[0m \u001b[38;5;66;03m# default hence the use of the lock\u001b[39;00m\n",
      "\u001b[0;31mKeyboardInterrupt\u001b[0m: "
     ]
    }
   ],
   "source": [
    "param_dist = {\n",
    "    'n_estimators': randint(50, 200),\n",
    "    'max_depth': randint(3, 7),\n",
    "    'learning_rate': uniform(0.01, 0.2),\n",
    "    'subsample': uniform(0.7, 0.3),\n",
    "    'colsample_bytree': uniform(0.7, 0.3)\n",
    "}\n",
    "\n",
    "xgb = XGBRegressor(random_state=42)\n",
    "tscv = TimeSeriesSplit(n_splits=5)\n",
    "random_search = RandomizedSearchCV(\n",
    "    estimator=xgb,\n",
    "    param_distributions=param_dist,\n",
    "    scoring='neg_mean_squared_error',\n",
    "    n_iter=50,\n",
    "    cv=tscv,\n",
    "    verbose=1,\n",
    "    n_jobs=-1\n",
    ")\n",
    "\n",
    "random_search.fit(X_train, y_train)\n",
    "\n",
    "print(\"Best Parameters:\", random_search.best_params_)"
   ]
  },
  {
   "cell_type": "code",
   "execution_count": null,
   "id": "5b5293df",
   "metadata": {},
   "outputs": [
    {
     "name": "stdout",
     "output_type": "stream",
     "text": [
      "Test RMSE with best parameters: 7.2318\n"
     ]
    }
   ],
   "source": [
    "# Get best model from RandomizedSearchCV\n",
    "best_model = random_search.best_estimator_\n",
    "\n",
    "# Predict on test data\n",
    "y_pred = best_model.predict(X_test)\n",
    "\n",
    "# Calculate RMSE\n",
    "mse = mean_squared_error(y_test, y_pred)\n",
    "rmse = np.sqrt(mse)\n",
    "\n",
    "print(f\"Test RMSE with best parameters: {rmse:.4f}\")"
   ]
  }
 ],
 "metadata": {
  "kernelspec": {
   "display_name": "cs190a",
   "language": "python",
   "name": "python3"
  },
  "language_info": {
   "codemirror_mode": {
    "name": "ipython",
    "version": 3
   },
   "file_extension": ".py",
   "mimetype": "text/x-python",
   "name": "python",
   "nbconvert_exporter": "python",
   "pygments_lexer": "ipython3",
   "version": "3.10.16"
  }
 },
 "nbformat": 4,
 "nbformat_minor": 5
}
